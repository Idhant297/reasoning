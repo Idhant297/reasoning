{
 "cells": [
  {
   "cell_type": "code",
   "execution_count": 1,
   "metadata": {},
   "outputs": [],
   "source": [
    "import torch\n",
    "from transformers import AutoTokenizer, AutoModelForCausalLM\n",
    "import matplotlib.pyplot as plt\n",
    "import numpy as np\n",
    "from typing import Dict, List, Any, Tuple, Optional\n",
    "from tqdm.auto import tqdm\n",
    "import plotly.graph_objects as go"
   ]
  },
  {
   "cell_type": "code",
   "execution_count": 2,
   "metadata": {},
   "outputs": [],
   "source": [
    "def get_device():\n",
    "    if torch.cuda.is_available():\n",
    "        return torch.device(\"cuda\")\n",
    "    else:\n",
    "        return torch.device(\"cpu\")"
   ]
  },
  {
   "cell_type": "code",
   "execution_count": 3,
   "metadata": {},
   "outputs": [
    {
     "data": {
      "application/vnd.jupyter.widget-view+json": {
       "model_id": "c7baad2bbf51448db223baac5b188ec8",
       "version_major": 2,
       "version_minor": 0
      },
      "text/plain": [
       "Loading checkpoint shards:   0%|          | 0/2 [00:00<?, ?it/s]"
      ]
     },
     "metadata": {},
     "output_type": "display_data"
    }
   ],
   "source": [
    "def load_model():\n",
    "    device = \"cuda\" if torch.cuda.is_available() else \"cpu\"\n",
    "    tokenizer = AutoTokenizer.from_pretrained(\"deepseek-ai/DeepSeek-R1-Distill-Llama-8B\")\n",
    "    model = AutoModelForCausalLM.from_pretrained(\"deepseek-ai/DeepSeek-R1-Distill-Llama-8B\",\n",
    "                                                 torch_dtype=torch.bfloat16)\n",
    "    model.eval()\n",
    "    model.to(device)\n",
    "    return tokenizer, model\n",
    "\n",
    "tokenizer, model = load_model()"
   ]
  },
  {
   "cell_type": "code",
   "execution_count": 4,
   "metadata": {},
   "outputs": [
    {
     "name": "stdout",
     "output_type": "stream",
     "text": [
      "cpu\n"
     ]
    }
   ],
   "source": [
    "device = get_device()\n",
    "print(device)"
   ]
  },
  {
   "cell_type": "code",
   "execution_count": 5,
   "metadata": {},
   "outputs": [],
   "source": [
    "import torch\n",
    "import matplotlib.pyplot as plt\n",
    "import numpy as np\n",
    "from typing import Dict, List, Any, Tuple, Optional\n",
    "from tqdm.auto import tqdm\n",
    "\n",
    "\n",
    "def get_device():\n",
    "    \"\"\"Get the appropriate device for computation, avoiding MPS.\"\"\"\n",
    "    if torch.cuda.is_available():\n",
    "        return torch.device(\"cuda\")\n",
    "    else:\n",
    "        return torch.device(\"cpu\")\n",
    "\n",
    "\n",
    "def prepare_prompt(prompt: str, tokenizer) -> str:\n",
    "    \"\"\"Format the prompt using the chat template if available\"\"\"\n",
    "    if hasattr(tokenizer, 'apply_chat_template'):\n",
    "        messages = [{\"role\": \"user\", \"content\": prompt}]\n",
    "        formatted_prompt = tokenizer.apply_chat_template(\n",
    "            messages, tokenize=False, add_generation_prompt=True\n",
    "        )\n",
    "        return formatted_prompt\n",
    "    return prompt\n",
    "\n",
    "\n",
    "def tokenize_prompts(clean_prompt: str, corrupted_prompt: str, tokenizer, device=None):\n",
    "    \"\"\"Tokenize prompts and prepare model inputs\"\"\"\n",
    "    # Get appropriate device\n",
    "    if device is None:\n",
    "        device = get_device()\n",
    "        \n",
    "    # Format prompts\n",
    "    formatted_clean = prepare_prompt(clean_prompt, tokenizer)\n",
    "    formatted_corrupted = prepare_prompt(corrupted_prompt, tokenizer)\n",
    "    \n",
    "    # Tokenize\n",
    "    clean_tokens = tokenizer(formatted_clean, return_tensors=\"pt\")\n",
    "    corrupted_tokens = tokenizer(formatted_corrupted, return_tensors=\"pt\")\n",
    "    \n",
    "    # Move to device\n",
    "    clean_tokens = {k: v.to(device) for k, v in clean_tokens.items()}\n",
    "    corrupted_tokens = {k: v.to(device) for k, v in corrupted_tokens.items()}\n",
    "    \n",
    "    print(f\"Clean prompt: {formatted_clean}\")\n",
    "    print(f\"Corrupted prompt: {formatted_corrupted}\")\n",
    "    \n",
    "    return clean_tokens, corrupted_tokens, formatted_clean, formatted_corrupted\n",
    "\n",
    "\n",
    "def extract_hidden_states(model, inputs, num_layers=None):\n",
    "    \"\"\"Extract hidden states from all layers for given inputs\"\"\"\n",
    "    # Determine number of layers if not provided\n",
    "    if num_layers is None:\n",
    "        num_layers = len(model.model.layers)\n",
    "    \n",
    "    # Get device\n",
    "    device = next(model.parameters()).device\n",
    "    \n",
    "    # Initialize dictionary to store hidden states\n",
    "    hidden_states = {f\"layer_{i}\": [] for i in range(num_layers)}\n",
    "    \n",
    "    # Define hook function to capture hidden states\n",
    "    def create_hook(layer_idx):\n",
    "        def hook_fn(module, inputs, outputs):\n",
    "            # Get the input hidden states (residual stream)\n",
    "            if isinstance(inputs, tuple):\n",
    "                states = inputs[0].detach().clone()\n",
    "            else:\n",
    "                states = inputs.detach().clone()\n",
    "            hidden_states[f\"layer_{layer_idx}\"].append(states)\n",
    "            \n",
    "        return hook_fn\n",
    "    \n",
    "    # Register hooks for all layers\n",
    "    hooks = []\n",
    "    for idx, layer in enumerate(model.model.layers):\n",
    "        if idx < num_layers:\n",
    "            hook = layer.register_forward_hook(create_hook(idx))\n",
    "            hooks.append(hook)\n",
    "    \n",
    "    # Process input through the model\n",
    "    with torch.no_grad():\n",
    "        try:\n",
    "            model(**inputs)\n",
    "        except RuntimeError as e:\n",
    "            if \"MPS\" in str(e):\n",
    "                print(\"Error detected. Moving to CPU...\")\n",
    "                cpu_device = torch.device('cpu')\n",
    "                model = model.to(cpu_device)\n",
    "                inputs = {k: v.to(cpu_device) for k, v in inputs.items()}\n",
    "                model(**inputs)\n",
    "            else:\n",
    "                # Re-raise other errors\n",
    "                raise\n",
    "    \n",
    "    # Remove all hooks\n",
    "    for hook in hooks:\n",
    "        hook.remove()\n",
    "    \n",
    "    return hidden_states\n",
    "\n",
    "def patch_and_get_next_token(model, input_ids, attention_mask, layer_idx, corrupted_hidden_states):\n",
    "    \"\"\"\n",
    "    Run a forward pass with patching at the specified layer\n",
    "    and return the predicted next token\n",
    "    \"\"\"\n",
    "    # Flag to track patching\n",
    "    patched = [False]\n",
    "    \n",
    "    # Define patching hook for forward_pre_hook (gets only module and input)\n",
    "    def patching_hook(module, inputs):\n",
    "        if not patched[0]:\n",
    "            # Get current hidden states\n",
    "            if isinstance(inputs, tuple):\n",
    "                hidden_states = inputs[0]\n",
    "            else:\n",
    "                hidden_states = inputs\n",
    "            \n",
    "            # Get corrupted hidden states for this layer\n",
    "            layer_key = f\"layer_{layer_idx}\"\n",
    "            corrupted_states = corrupted_hidden_states[layer_key]\n",
    "            \n",
    "            # Check if we have corrupted states for this position\n",
    "            if len(corrupted_states) > 0:\n",
    "                # Use the last available corrupted state\n",
    "                corrupted_state = corrupted_states[-1]\n",
    "                \n",
    "                # Create patched hidden states\n",
    "                patched_states = hidden_states.clone()\n",
    "                \n",
    "                # Determine how much we can patch\n",
    "                min_seq_len = min(corrupted_state.shape[1], patched_states.shape[1])\n",
    "                \n",
    "                # Patch what we can\n",
    "                patched_states[:, :min_seq_len, :] = corrupted_state[:, :min_seq_len, :]\n",
    "                \n",
    "                # Mark as patched\n",
    "                patched[0] = True\n",
    "                \n",
    "                # Return patched hidden states\n",
    "                if isinstance(inputs, tuple):\n",
    "                    return (patched_states,) + inputs[1:]\n",
    "                else:\n",
    "                    return patched_states\n",
    "        \n",
    "        return inputs\n",
    "    \n",
    "    # Register the hook - using forward_pre_hook\n",
    "    hook = model.model.layers[layer_idx].register_forward_pre_hook(patching_hook)\n",
    "    \n",
    "    try:\n",
    "        # Run model with patching\n",
    "        with torch.no_grad():\n",
    "            try:\n",
    "                outputs = model(\n",
    "                    input_ids=input_ids,\n",
    "                    attention_mask=attention_mask\n",
    "                )\n",
    "            except RuntimeError as e:\n",
    "                # If any error occurs, try CPU\n",
    "                print(f\"Error during patching: {str(e)}. Trying CPU...\")\n",
    "                # Save original device to move back later\n",
    "                original_device = next(model.parameters()).device\n",
    "                # Move everything to CPU\n",
    "                model = model.to('cpu')\n",
    "                input_ids = input_ids.to('cpu')\n",
    "                attention_mask = attention_mask.to('cpu')\n",
    "                \n",
    "                outputs = model(\n",
    "                    input_ids=input_ids,\n",
    "                    attention_mask=attention_mask\n",
    "                )\n",
    "                \n",
    "                # Move model back\n",
    "                model.to(original_device)\n",
    "            \n",
    "        # Get the next token prediction\n",
    "        next_token_logits = outputs.logits[0, -1, :]\n",
    "        next_token = torch.argmax(next_token_logits, dim=-1).item()\n",
    "        \n",
    "        return next_token\n",
    "    finally:\n",
    "        # Always remove the hook\n",
    "        hook.remove()\n",
    "\n",
    "\n",
    "\n",
    "\n",
    "def run_initial_passes(model, clean_tokens, corrupted_tokens, num_layers=None):\n",
    "    \"\"\"\n",
    "    Run initial forward passes and extract hidden states for both prompts\n",
    "    \n",
    "    Returns:\n",
    "        Tuple of (clean_hidden_states, corrupted_hidden_states)\n",
    "    \"\"\"\n",
    "    print(\"Running initial forward passes...\")\n",
    "    \n",
    "    # Extract hidden states for clean prompt\n",
    "    clean_hidden_states = extract_hidden_states(\n",
    "        model, clean_tokens, num_layers=num_layers\n",
    "    )\n",
    "    \n",
    "    # Extract hidden states for corrupted prompt\n",
    "    corrupted_hidden_states = extract_hidden_states(\n",
    "        model, corrupted_tokens, num_layers=num_layers\n",
    "    )\n",
    "    \n",
    "    print(\"Initial passes complete.\")\n",
    "    return clean_hidden_states, corrupted_hidden_states\n",
    "\n",
    "\n",
    "def generate_text(model, tokenizer, tokens, max_new_tokens=100):\n",
    "    \"\"\"Generate text from input tokens\"\"\"\n",
    "    # Convert tokens to dict if it's not already (for compatibility)\n",
    "    if not isinstance(tokens, dict):\n",
    "        tokens = {'input_ids': tokens.input_ids, 'attention_mask': tokens.attention_mask}\n",
    "    \n",
    "    # Get device from tokens\n",
    "    device = tokens['input_ids'].device\n",
    "    \n",
    "    with torch.no_grad():\n",
    "        try:\n",
    "            output_ids = model.generate(\n",
    "                input_ids=tokens['input_ids'],\n",
    "                attention_mask=tokens['attention_mask'],\n",
    "                max_new_tokens=max_new_tokens,\n",
    "                pad_token_id=tokenizer.eos_token_id\n",
    "            )\n",
    "        except RuntimeError as e:\n",
    "            if \"MPS\" in str(e) or \"CUDA\" in str(e):\n",
    "                print(\"Device error detected. Falling back to CPU...\")\n",
    "                # Move model to CPU temporarily\n",
    "                original_device = next(model.parameters()).device\n",
    "                model.to('cpu')\n",
    "                # Move inputs to CPU\n",
    "                cpu_tokens = {k: v.to('cpu') for k, v in tokens.items()}\n",
    "                \n",
    "                # Try generation on CPU\n",
    "                output_ids = model.generate(\n",
    "                    input_ids=cpu_tokens['input_ids'],\n",
    "                    attention_mask=cpu_tokens['attention_mask'],\n",
    "                    max_new_tokens=max_new_tokens,\n",
    "                    pad_token_id=tokenizer.eos_token_id\n",
    "                )\n",
    "                \n",
    "                # Move model back\n",
    "                model.to(original_device)\n",
    "            else:\n",
    "                # Re-raise other errors\n",
    "                raise\n",
    "    \n",
    "    # Get the full output text\n",
    "    full_output = tokenizer.decode(output_ids[0], skip_special_tokens=True)\n",
    "    \n",
    "    # Get just the generated text (excluding the input)\n",
    "    input_length = tokens['input_ids'].shape[1]\n",
    "    gen_ids = output_ids[0, input_length:]\n",
    "    generated_text = tokenizer.decode(gen_ids, skip_special_tokens=True)\n",
    "    \n",
    "    # Return all information\n",
    "    return {\n",
    "        \"full_output\": full_output,\n",
    "        \"generated_text\": generated_text,\n",
    "        \"input_ids\": tokens['input_ids'][0].tolist(),\n",
    "        \"generated_ids\": gen_ids.tolist(),\n",
    "        \"all_tokens\": output_ids[0].tolist()\n",
    "    }\n",
    "\n",
    "\n",
    "def generate_baseline_outputs(model, tokenizer, clean_tokens, corrupted_tokens, max_new_tokens=100):\n",
    "    \"\"\"Generate baseline outputs for both clean and corrupted prompts\"\"\"\n",
    "    print(\"Generating baseline outputs...\")\n",
    "    \n",
    "    # Generate from clean prompt\n",
    "    clean_generation = generate_text(model, tokenizer, clean_tokens, max_new_tokens)\n",
    "    print(f\"Clean output: {clean_generation['generated_text']}\")\n",
    "    \n",
    "    # Generate from corrupted prompt\n",
    "    corrupted_generation = generate_text(model, tokenizer, corrupted_tokens, max_new_tokens)\n",
    "    print(f\"Corrupted output: {corrupted_generation['generated_text']}\")\n",
    "    \n",
    "    return clean_generation, corrupted_generation\n",
    "\n",
    "\n",
    "\n",
    "def run_generation_phase_patching(\n",
    "    model, \n",
    "    tokenizer, \n",
    "    clean_tokens, \n",
    "    corrupted_hidden_states, \n",
    "    layers_to_patch=None, \n",
    "    max_tokens_to_generate=20,\n",
    "    device=None\n",
    "):\n",
    "    \"\"\"\n",
    "    Run generation-phase patching as described in the methodology.\n",
    "    \n",
    "    For each token position in the generation:\n",
    "    1. Generate the token normally for the clean prompt\n",
    "    2. For each layer, patch the hidden states from the corrupted run\n",
    "    3. See if this changes the output token\n",
    "    4. Continue generation with the normal token (not the patched one)\n",
    "    5. Repeat for each token position\n",
    "    \"\"\"\n",
    "    print(\"Running generation-phase patching...\")\n",
    "    \n",
    "    # Get appropriate device\n",
    "    if device is None:\n",
    "        device = get_device()\n",
    "    \n",
    "    # Determine which layers to patch\n",
    "    if layers_to_patch is None:\n",
    "        layers_to_patch = list(range(len(model.model.layers)))\n",
    "    \n",
    "    # Start with the clean prompt tokens\n",
    "    current_input_ids = clean_tokens['input_ids'].clone()\n",
    "    \n",
    "    # Track the clean generation sequence\n",
    "    clean_generation_ids = []\n",
    "    \n",
    "    # Track patching results for each token position\n",
    "    token_patching_results = []\n",
    "    \n",
    "    # Generate tokens one by one\n",
    "    for token_idx in tqdm(range(max_tokens_to_generate)):\n",
    "        # Current input length\n",
    "        curr_length = current_input_ids.shape[1]\n",
    "        \n",
    "        # Create attention mask\n",
    "        attention_mask = torch.ones((1, curr_length), device=device)\n",
    "        \n",
    "        # Get the next token from clean generation (without patching)\n",
    "        with torch.no_grad():\n",
    "            clean_outputs = model(\n",
    "                input_ids=current_input_ids,\n",
    "                attention_mask=attention_mask\n",
    "            )\n",
    "            clean_next_token_logits = clean_outputs.logits[0, -1, :]\n",
    "            clean_next_token = torch.argmax(clean_next_token_logits, dim=-1).item()\n",
    "            \n",
    "        # Add this token to our clean generation tracking\n",
    "        clean_generation_ids.append(clean_next_token)\n",
    "        \n",
    "        # For each layer, run patching and check effect\n",
    "        layer_results = {}\n",
    "        \n",
    "        for layer_idx in layers_to_patch:\n",
    "            # Skip patching if we don't have corrupted hidden states for this layer\n",
    "            layer_key = f\"layer_{layer_idx}\"\n",
    "            if layer_key not in corrupted_hidden_states:\n",
    "                continue\n",
    "                \n",
    "            # Try patching at this layer\n",
    "            patched_token = patch_and_get_next_token(\n",
    "                model,\n",
    "                current_input_ids, \n",
    "                attention_mask,\n",
    "                layer_idx,\n",
    "                corrupted_hidden_states\n",
    "            )\n",
    "            \n",
    "            # Record results\n",
    "            layer_results[layer_idx] = {\n",
    "                \"clean_token\": clean_next_token,\n",
    "                \"clean_token_str\": tokenizer.decode(clean_next_token),\n",
    "                \"patched_token\": patched_token,\n",
    "                \"patched_token_str\": tokenizer.decode(patched_token),\n",
    "                \"changed\": patched_token != clean_next_token\n",
    "            }\n",
    "        \n",
    "        # Add results for this token position\n",
    "        token_patching_results.append({\n",
    "            \"token_position\": token_idx,\n",
    "            \"context\": tokenizer.decode(current_input_ids[0]),\n",
    "            \"clean_next_token\": clean_next_token,\n",
    "            \"clean_next_token_str\": tokenizer.decode(clean_next_token),\n",
    "            \"layer_results\": layer_results\n",
    "        })\n",
    "        \n",
    "        # Continue generation with the clean token (important: we're not using patched tokens)\n",
    "        current_input_ids = torch.cat([\n",
    "            current_input_ids, \n",
    "            torch.tensor([[clean_next_token]], device=device)\n",
    "        ], dim=1)\n",
    "        \n",
    "        # Check if we've reached the end token\n",
    "        if clean_next_token == tokenizer.eos_token_id:\n",
    "            break\n",
    "    \n",
    "    # Save final clean generation\n",
    "    clean_gen_text = tokenizer.decode(\n",
    "        current_input_ids[0, clean_tokens['input_ids'].shape[1]:], \n",
    "        skip_special_tokens=True\n",
    "    )\n",
    "    \n",
    "    # Return patching results\n",
    "    patching_results = {\n",
    "        \"token_results\": token_patching_results,\n",
    "        \"clean_generation_ids\": clean_generation_ids,\n",
    "        \"clean_generation_text\": clean_gen_text,\n",
    "        \"layers_patched\": layers_to_patch\n",
    "    }\n",
    "    \n",
    "    print(\"Generation-phase patching complete.\")\n",
    "    return patching_results\n",
    "\n",
    "\n",
    "def analyze_patching_results(patching_results, tokenizer):\n",
    "    \"\"\"Analyze patching results to identify important layers for reasoning\"\"\"\n",
    "    if not patching_results:\n",
    "        print(\"No patching results found.\")\n",
    "        return None\n",
    "    \n",
    "    # Track which layers change tokens at which positions\n",
    "    token_changes = {layer: [] for layer in patching_results[\"layers_patched\"]}\n",
    "    \n",
    "    # Analyze each token position\n",
    "    for token_result in patching_results[\"token_results\"]:\n",
    "        position = token_result[\"token_position\"]\n",
    "        \n",
    "        for layer_idx, layer_result in token_result[\"layer_results\"].items():\n",
    "            if layer_result[\"changed\"]:\n",
    "                # Record that this layer changed this token\n",
    "                token_changes[layer_idx].append({\n",
    "                    \"position\": position,\n",
    "                    \"clean_token\": layer_result[\"clean_token_str\"],\n",
    "                    \"patched_token\": layer_result[\"patched_token_str\"],\n",
    "                    \"context\": token_result[\"context\"]\n",
    "                })\n",
    "    \n",
    "    # Find layers with the most impact\n",
    "    layer_impact = {layer: len(changes) for layer, changes in token_changes.items()}\n",
    "    most_impactful_layers = sorted(\n",
    "        layer_impact.items(), \n",
    "        key=lambda x: x[1], \n",
    "        reverse=True\n",
    "    )\n",
    "    \n",
    "    # Find token positions with the most changes\n",
    "    position_changes = {}\n",
    "    for token_result in patching_results[\"token_results\"]:\n",
    "        position = token_result[\"token_position\"]\n",
    "        changes = sum(1 for layer_result in token_result[\"layer_results\"].values() if layer_result[\"changed\"])\n",
    "        position_changes[position] = changes\n",
    "    \n",
    "    most_affected_positions = sorted(\n",
    "        position_changes.items(),\n",
    "        key=lambda x: x[1],\n",
    "        reverse=True\n",
    "    )\n",
    "    \n",
    "    # Compile analysis\n",
    "    analysis = {\n",
    "        \"token_changes\": token_changes,\n",
    "        \"layer_impact\": layer_impact,\n",
    "        \"most_impactful_layers\": most_impactful_layers,\n",
    "        \"position_changes\": position_changes,\n",
    "        \"most_affected_positions\": most_affected_positions,\n",
    "    }\n",
    "    \n",
    "    return analysis\n",
    "\n",
    "\n",
    "def visualize_layer_impact(analysis_results, save_path=None):\n",
    "    \"\"\"Visualize the impact of each layer on token generation using Plotly\"\"\"\n",
    "    if not analysis_results:\n",
    "        print(\"No analysis results found.\")\n",
    "        return\n",
    "        \n",
    "    # Extract data for plotting\n",
    "    layers = list(analysis_results[\"layer_impact\"].keys())\n",
    "    impact_values = list(analysis_results[\"layer_impact\"].values())\n",
    "    \n",
    "    # Find most impactful layer\n",
    "    most_impactful = None\n",
    "    most_impactful_value = 0\n",
    "    if impact_values and max(impact_values) > 0:\n",
    "        most_impactful = analysis_results[\"most_impactful_layers\"][0][0]\n",
    "        most_impactful_value = analysis_results[\"layer_impact\"][most_impactful]\n",
    "    \n",
    "    # Create colors list with the most impactful layer highlighted\n",
    "    colors = ['rgba(0, 0, 255, 0.6)' if layer != most_impactful else 'rgba(255, 0, 0, 0.8)' \n",
    "              for layer in layers]\n",
    "    \n",
    "    # Create Plotly figure\n",
    "    fig = go.Figure()\n",
    "    \n",
    "    # Add bar chart\n",
    "    fig.add_trace(go.Bar(\n",
    "        x=layers,\n",
    "        y=impact_values,\n",
    "        marker_color=colors,\n",
    "        text=impact_values,\n",
    "        textposition='outside',\n",
    "        hovertemplate='Layer %{x}<br>Changed %{y} tokens<extra></extra>'\n",
    "    ))\n",
    "    \n",
    "    # Add annotation for most impactful layer\n",
    "    if most_impactful is not None:\n",
    "        fig.add_annotation(\n",
    "            x=most_impactful,\n",
    "            y=most_impactful_value + 0.5,\n",
    "            text=f\"Most impactful: Layer {most_impactful}\",\n",
    "            showarrow=True,\n",
    "            arrowhead=1,\n",
    "            font=dict(size=14)\n",
    "        )\n",
    "    \n",
    "    # Update layout\n",
    "    fig.update_layout(\n",
    "        title='Impact of Layer Patching on Token Generation',\n",
    "        xaxis_title='Model Layer',\n",
    "        yaxis_title='Number of Tokens Changed',\n",
    "        template='plotly_white',\n",
    "        xaxis=dict(\n",
    "            tickmode='array',\n",
    "            tickvals=layers\n",
    "        ),\n",
    "        hoverlabel=dict(\n",
    "            bgcolor=\"white\",\n",
    "            font_size=12\n",
    "        ),\n",
    "        height=600\n",
    "    )\n",
    "    \n",
    "    # Save if requested\n",
    "    if save_path:\n",
    "        fig.write_image(save_path)\n",
    "        fig.write_html(save_path.replace(\".png\", \".html\"))\n",
    "    \n",
    "    fig.show()\n",
    "\n",
    "\n",
    "def visualize_token_position_impact(patching_results, analysis_results, tokenizer, save_path=None):\n",
    "    \"\"\"Visualize which token positions are most affected by patching using Plotly\"\"\"\n",
    "    if not analysis_results:\n",
    "        print(\"No analysis results found.\")\n",
    "        return\n",
    "        \n",
    "    # Extract data for plotting\n",
    "    positions = list(analysis_results[\"position_changes\"].keys())\n",
    "    impact_values = list(analysis_results[\"position_changes\"].values())\n",
    "    \n",
    "    # Get token strings\n",
    "    token_strings = []\n",
    "    hover_texts = []\n",
    "    for pos in positions:\n",
    "        if pos < len(patching_results[\"token_results\"]):\n",
    "            token = patching_results[\"token_results\"][pos][\"clean_next_token_str\"]\n",
    "            token_strings.append(f\"{pos}: '{token}'\")\n",
    "            # Add context for richer hover information\n",
    "            context = patching_results[\"token_results\"][pos][\"context\"]\n",
    "            if len(context) > 50:\n",
    "                context = context[-50:] + \"...\"\n",
    "            hover_texts.append(f\"Position: {pos}<br>Token: '{token}'<br>Context: {context}\")\n",
    "        else:\n",
    "            token_strings.append(str(pos))\n",
    "            hover_texts.append(f\"Position: {pos}\")\n",
    "    \n",
    "    # Find most affected position\n",
    "    colors = ['rgba(0, 128, 0, 0.6)'] * len(positions)\n",
    "    if impact_values and max(impact_values) > 0:\n",
    "        most_affected_idx = impact_values.index(max(impact_values))\n",
    "        colors[most_affected_idx] = 'rgba(128, 0, 128, 0.8)'\n",
    "    \n",
    "    # Create Plotly figure\n",
    "    fig = go.Figure()\n",
    "    \n",
    "    # Add bar chart\n",
    "    fig.add_trace(go.Bar(\n",
    "        x=token_strings,\n",
    "        y=impact_values,\n",
    "        marker_color=colors,\n",
    "        text=impact_values,\n",
    "        textposition='outside',\n",
    "        hovertext=hover_texts,\n",
    "        hovertemplate='%{hovertext}<br>Changed by %{y} layers<extra></extra>'\n",
    "    ))\n",
    "    \n",
    "    # Update layout\n",
    "    fig.update_layout(\n",
    "        title='Token Positions Most Affected by Layer Patching',\n",
    "        xaxis_title='Token Position and Value',\n",
    "        yaxis_title='Number of Layers Causing Change',\n",
    "        template='plotly_white',\n",
    "        xaxis=dict(\n",
    "            tickangle=45\n",
    "        ),\n",
    "        hoverlabel=dict(\n",
    "            bgcolor=\"white\",\n",
    "            font_size=12\n",
    "        ),\n",
    "        height=600\n",
    "    )\n",
    "    \n",
    "    # Save if requested\n",
    "    if save_path:\n",
    "        fig.write_image(save_path)\n",
    "        fig.write_html(save_path.replace(\".png\", \".html\"))\n",
    "    \n",
    "    fig.show()\n",
    "\n",
    "def visualize_heatmap(patching_results, save_path=None):\n",
    "    \"\"\"Create a heatmap showing which layers affect which token positions using Plotly\"\"\"\n",
    "    if not patching_results:\n",
    "        print(\"No patching results found.\")\n",
    "        return\n",
    "    \n",
    "    # Get token results\n",
    "    token_results = patching_results[\"token_results\"]\n",
    "    \n",
    "    # Create layers x tokens matrix\n",
    "    layers = sorted(patching_results[\"layers_patched\"])\n",
    "    tokens = list(range(len(token_results)))\n",
    "    \n",
    "    # Initialize heatmap data\n",
    "    heatmap_data = [[0 for _ in tokens] for _ in layers]\n",
    "    \n",
    "    # Fill the heatmap data\n",
    "    for t_idx, token_result in enumerate(token_results):\n",
    "        for l_idx, layer in enumerate(layers):\n",
    "            if layer in token_result[\"layer_results\"]:\n",
    "                if token_result[\"layer_results\"][layer][\"changed\"]:\n",
    "                    heatmap_data[l_idx][t_idx] = 1\n",
    "    \n",
    "    # Create token labels\n",
    "    token_labels = []\n",
    "    token_hover_texts = []\n",
    "    for t_idx, token_result in enumerate(token_results):\n",
    "        token_str = token_result[\"clean_next_token_str\"]\n",
    "        # Truncate long tokens\n",
    "        if len(token_str) > 10:\n",
    "            token_str = token_str[:8] + \"...\"\n",
    "        token_labels.append(f\"{t_idx}: '{token_str}'\")\n",
    "        \n",
    "        # Create hover text with token and some context\n",
    "        context = token_result[\"context\"]\n",
    "        if len(context) > 50:\n",
    "            context = \"...\" + context[-50:]\n",
    "        token_hover_texts.append(f\"Position: {t_idx}<br>Token: '{token_str}'<br>Context: {context}\")\n",
    "    \n",
    "    # Create plotly figure\n",
    "    fig = go.Figure(data=go.Heatmap(\n",
    "        z=heatmap_data,\n",
    "        x=token_labels,\n",
    "        y=[f\"Layer {l}\" for l in layers],\n",
    "        colorscale='YlOrRd',\n",
    "        showscale=True,\n",
    "        hoverongaps=False,\n",
    "        customdata=[[token_hover_texts[t_idx] for t_idx in range(len(tokens))] for _ in range(len(layers))],\n",
    "        hovertemplate='%{y}<br>%{customdata}<extra></extra>'\n",
    "    ))\n",
    "    \n",
    "    # Update layout\n",
    "    fig.update_layout(\n",
    "        title='Heatmap of Layer Impact on Token Generation',\n",
    "        xaxis_title='Token Position and Value',\n",
    "        yaxis_title='Model Layer',\n",
    "        template='plotly_white',\n",
    "        xaxis=dict(\n",
    "            tickangle=45,\n",
    "            showgrid=False\n",
    "        ),\n",
    "        yaxis=dict(\n",
    "            showgrid=False\n",
    "        ),\n",
    "        hoverlabel=dict(\n",
    "            bgcolor=\"white\",\n",
    "            font_size=12\n",
    "        ),\n",
    "        height=700,\n",
    "        width=900\n",
    "    )\n",
    "    \n",
    "    # Save if requested\n",
    "    if save_path:\n",
    "        fig.write_image(save_path)\n",
    "        fig.write_html(save_path.replace(\".png\", \".html\"))\n",
    "    \n",
    "    fig.show()\n",
    "\n",
    "def generate_detailed_report(patching_results, analysis_results, clean_prompt, corrupted_prompt, corrupted_generation=None):\n",
    "    \"\"\"Generate a detailed text report of the patching results\"\"\"\n",
    "    if not patching_results or not analysis_results:\n",
    "        print(\"Missing patching or analysis results.\")\n",
    "        return \"\"\n",
    "    \n",
    "    # Start building the report\n",
    "    report = []\n",
    "    report.append(\"=\" * 80)\n",
    "    report.append(\"GENERATION-PHASE ACTIVATION PATCHING REPORT\")\n",
    "    report.append(\"=\" * 80)\n",
    "    \n",
    "    # Baseline outputs\n",
    "    report.append(\"\\nBASELINE OUTPUTS:\")\n",
    "    report.append(f\"Clean prompt: {clean_prompt}\")\n",
    "    report.append(f\"Clean generation: {patching_results['clean_generation_text']}\")\n",
    "    report.append(f\"Corrupted prompt: {corrupted_prompt}\")\n",
    "    if corrupted_generation:\n",
    "        report.append(f\"Corrupted generation: {corrupted_generation['generated_text']}\")\n",
    "    \n",
    "    # Most impactful layers\n",
    "    report.append(\"\\nMOST IMPACTFUL LAYERS:\")\n",
    "    for layer, impact in analysis_results[\"most_impactful_layers\"][:5]:\n",
    "        if impact > 0:\n",
    "            report.append(f\"Layer {layer}: Changed {impact} tokens\")\n",
    "    \n",
    "    # Most affected token positions\n",
    "    report.append(\"\\nMOST AFFECTED TOKEN POSITIONS:\")\n",
    "    for pos, changes in analysis_results[\"most_affected_positions\"][:5]:\n",
    "        if changes > 0:\n",
    "            token = patching_results[\"token_results\"][pos][\"clean_next_token_str\"]\n",
    "            report.append(f\"Position {pos} ('{token}'): Changed by {changes} layers\")\n",
    "    \n",
    "    # Detailed token-by-token analysis\n",
    "    report.append(\"\\nDETAILED TOKEN-BY-TOKEN ANALYSIS:\")\n",
    "    for token_result in patching_results[\"token_results\"]:\n",
    "        pos = token_result[\"token_position\"]\n",
    "        clean_token = token_result[\"clean_next_token_str\"]\n",
    "        \n",
    "        # Only show interesting positions (where something changed)\n",
    "        changes = [layer for layer, result in token_result[\"layer_results\"].items() \n",
    "                  if result[\"changed\"]]\n",
    "        \n",
    "        if changes:\n",
    "            report.append(f\"\\nToken position {pos} (Clean: '{clean_token}'):\")\n",
    "            context = token_result[\"context\"]\n",
    "            report.append(f\"Context: {context}\")\n",
    "            \n",
    "            for layer in sorted(changes):\n",
    "                result = token_result[\"layer_results\"][layer]\n",
    "                report.append(f\"  Layer {layer}: '{result['clean_token_str']}' → '{result['patched_token_str']}'\")\n",
    "    \n",
    "    return \"\\n\".join(report)\n",
    "\n",
    "def generate_patched_output(model, tokenizer, clean_tokens, corrupted_hidden_states, layer_to_patch, max_new_tokens=50, device=None):\n",
    "    \"\"\"\n",
    "    Generate a complete output sequence with patching applied at the specified layer\n",
    "    for all generation steps. This allows seeing how patching affects the entire generation.\n",
    "    \n",
    "    Args:\n",
    "        model: The language model\n",
    "        tokenizer: The tokenizer\n",
    "        clean_tokens: Tokenized clean prompt\n",
    "        corrupted_hidden_states: Hidden states from the corrupted prompt\n",
    "        layer_to_patch: Which layer to patch (typically the most impactful layer)\n",
    "        max_new_tokens: Maximum tokens to generate\n",
    "        device: Device to run on\n",
    "        \n",
    "    Returns:\n",
    "        Dictionary with generation results\n",
    "    \"\"\"\n",
    "    if device is None:\n",
    "        device = get_device()\n",
    "    \n",
    "    print(f\"Generating complete output with patching at layer {layer_to_patch}...\")\n",
    "    \n",
    "    # Start with the clean prompt tokens\n",
    "    current_input_ids = clean_tokens['input_ids'].clone()\n",
    "    \n",
    "    # Track the patched generation\n",
    "    patched_generation_ids = []\n",
    "    \n",
    "    # Generate tokens one by one with continuous patching\n",
    "    for _ in tqdm(range(max_new_tokens)):\n",
    "        # Current input length\n",
    "        curr_length = current_input_ids.shape[1]\n",
    "        \n",
    "        # Create attention mask\n",
    "        attention_mask = torch.ones((1, curr_length), device=device)\n",
    "        \n",
    "        # Get the next token with patching at the specified layer\n",
    "        patched_token = patch_and_get_next_token(\n",
    "            model,\n",
    "            current_input_ids,\n",
    "            attention_mask,\n",
    "            layer_to_patch,\n",
    "            corrupted_hidden_states\n",
    "        )\n",
    "        \n",
    "        # Add this token to our patched generation tracking\n",
    "        patched_generation_ids.append(patched_token)\n",
    "        \n",
    "        # Importantly, use the patched token for the next generation step\n",
    "        current_input_ids = torch.cat([\n",
    "            current_input_ids, \n",
    "            torch.tensor([[patched_token]], device=device)\n",
    "        ], dim=1)\n",
    "        \n",
    "        # Check if we've reached the end token\n",
    "        if patched_token == tokenizer.eos_token_id:\n",
    "            break\n",
    "    \n",
    "    # Extract the generated text (without the prompt)\n",
    "    patched_generation_text = tokenizer.decode(\n",
    "        current_input_ids[0, clean_tokens['input_ids'].shape[1]:], \n",
    "        skip_special_tokens=True\n",
    "    )\n",
    "    \n",
    "    # Return generation results\n",
    "    return {\n",
    "        \"patched_generation_ids\": patched_generation_ids,\n",
    "        \"patched_generation_text\": patched_generation_text,\n",
    "        \"layer_patched\": layer_to_patch\n",
    "    }\n",
    "\n",
    "def generate_concise_insights(patching_results, analysis_results, corrupted_generation=None):\n",
    "    \"\"\"Generate concise insights about the most important findings\"\"\"\n",
    "    if not patching_results or not analysis_results:\n",
    "        print(\"Missing patching or analysis results.\")\n",
    "        return \"\"\n",
    "    \n",
    "    # Start building insights\n",
    "    insights = []\n",
    "    insights.append(\"KEY INSIGHTS FROM ACTIVATION PATCHING:\")\n",
    "    \n",
    "    # Check if we had any impact\n",
    "    total_changes = sum(analysis_results[\"layer_impact\"].values())\n",
    "    if total_changes == 0:\n",
    "        insights.append(\"No token changes observed during patching. The model's reasoning path appears robust to patching in these layers.\")\n",
    "        return \"\\n\".join(insights)\n",
    "    \n",
    "    # Find critical layers\n",
    "    critical_layers = [layer for layer, impact in analysis_results[\"most_impactful_layers\"] if impact > 0][:3]\n",
    "    if critical_layers:\n",
    "        layers_str = \", \".join([f\"Layer {l}\" for l in critical_layers])\n",
    "        insights.append(f\"Critical layers for reasoning: {layers_str}\")\n",
    "    \n",
    "    # Find critical reasoning steps\n",
    "    critical_positions = [pos for pos, changes in analysis_results[\"most_affected_positions\"] if changes > 0][:3]\n",
    "    if critical_positions:\n",
    "        tokens = []\n",
    "        for pos in critical_positions:\n",
    "            if pos < len(patching_results[\"token_results\"]):\n",
    "                token = patching_results[\"token_results\"][pos][\"clean_next_token_str\"]\n",
    "                tokens.append(f\"'{token}' (pos {pos})\")\n",
    "        \n",
    "        tokens_str = \", \".join(tokens)\n",
    "        insights.append(f\"Critical reasoning tokens: {tokens_str}\")\n",
    "    \n",
    "    # Check if any early tokens were affected\n",
    "    early_affected = [pos for pos in critical_positions if pos < 3]\n",
    "    if early_affected:\n",
    "        insights.append(\"Early tokens in the generation were affected, suggesting the model's reasoning path diverges early.\")\n",
    "    \n",
    "    # Check if patching created token sequences similar to corrupted output\n",
    "    if corrupted_generation:\n",
    "        corrupt_text = corrupted_generation[\"generated_text\"]\n",
    "        patched_sequences = []\n",
    "        \n",
    "        for token_result in patching_results[\"token_results\"]:\n",
    "            for layer, result in token_result[\"layer_results\"].items():\n",
    "                if result[\"changed\"] and result[\"patched_token_str\"] in corrupt_text:\n",
    "                    patched_sequences.append(f\"Layer {layer} at position {token_result['token_position']}\")\n",
    "                    break\n",
    "        \n",
    "        if patched_sequences:\n",
    "            insights.append(f\"Patching produced tokens matching the corrupted output at: {', '.join(patched_sequences[:3])}\")\n",
    "    \n",
    "    return \"\\n\".join(insights)\n",
    "\n",
    "def visualize_generation_comparison(results, save_path=None):\n",
    "    \"\"\"\n",
    "    Create a visual comparison of the three different generations\n",
    "    (clean, corrupted, and patched) using Plotly - simplified version\n",
    "    that doesn't use make_subplots\n",
    "    \"\"\"\n",
    "    import plotly.graph_objects as go\n",
    "    \n",
    "    if \"patched_generation\" not in results:\n",
    "        print(\"No patched generation available for comparison.\")\n",
    "        return\n",
    "    \n",
    "    # Extract text for comparison\n",
    "    clean_text = results[\"clean_generation\"][\"generated_text\"]\n",
    "    corrupted_text = results[\"corrupted_generation\"][\"generated_text\"]\n",
    "    patched_text = results[\"patched_generation\"][\"patched_generation_text\"]\n",
    "    patched_layer = results[\"patched_generation\"][\"layer_patched\"]\n",
    "    \n",
    "    # Create a single figure with all outputs as separate annotations\n",
    "    fig = go.Figure()\n",
    "    \n",
    "    # Add text annotations for each output\n",
    "    fig.add_annotation(\n",
    "        xref=\"paper\", yref=\"paper\",\n",
    "        x=0.5, y=0.95,\n",
    "        text=\"<b>Clean Output (No Hint)</b>\",\n",
    "        showarrow=False,\n",
    "        font=dict(size=16),\n",
    "        align=\"center\",\n",
    "        bgcolor=\"rgba(0,0,0,0)\",\n",
    "    )\n",
    "    \n",
    "    fig.add_annotation(\n",
    "        xref=\"paper\", yref=\"paper\",\n",
    "        x=0.01, y=0.85,\n",
    "        text=clean_text,\n",
    "        showarrow=False,\n",
    "        font=dict(size=12),\n",
    "        align=\"left\",\n",
    "        bgcolor=\"rgba(240, 240, 240, 0.7)\",\n",
    "        bordercolor=\"black\",\n",
    "        borderwidth=1,\n",
    "        borderpad=10,\n",
    "        xanchor=\"left\",\n",
    "        yanchor=\"top\",\n",
    "    )\n",
    "    \n",
    "    fig.add_annotation(\n",
    "        xref=\"paper\", yref=\"paper\",\n",
    "        x=0.5, y=0.65,\n",
    "        text=f\"<b>Corrupted Output (With Hint)</b>\",\n",
    "        showarrow=False,\n",
    "        font=dict(size=16),\n",
    "        align=\"center\",\n",
    "        bgcolor=\"rgba(0,0,0,0)\",\n",
    "    )\n",
    "    \n",
    "    fig.add_annotation(\n",
    "        xref=\"paper\", yref=\"paper\",\n",
    "        x=0.01, y=0.55,\n",
    "        text=corrupted_text,\n",
    "        showarrow=False,\n",
    "        font=dict(size=12),\n",
    "        align=\"left\",\n",
    "        bgcolor=\"rgba(255, 230, 230, 0.7)\",\n",
    "        bordercolor=\"black\",\n",
    "        borderwidth=1,\n",
    "        borderpad=10,\n",
    "        xanchor=\"left\",\n",
    "        yanchor=\"top\",\n",
    "    )\n",
    "    \n",
    "    fig.add_annotation(\n",
    "        xref=\"paper\", yref=\"paper\",\n",
    "        x=0.5, y=0.35,\n",
    "        text=f\"<b>Patched Output (Layer {patched_layer})</b>\",\n",
    "        showarrow=False,\n",
    "        font=dict(size=16),\n",
    "        align=\"center\",\n",
    "        bgcolor=\"rgba(0,0,0,0)\",\n",
    "    )\n",
    "    \n",
    "    fig.add_annotation(\n",
    "        xref=\"paper\", yref=\"paper\",\n",
    "        x=0.01, y=0.25,\n",
    "        text=patched_text,\n",
    "        showarrow=False,\n",
    "        font=dict(size=12),\n",
    "        align=\"left\",\n",
    "        bgcolor=\"rgba(230, 255, 230, 0.7)\",\n",
    "        bordercolor=\"black\",\n",
    "        borderwidth=1,\n",
    "        borderpad=10,\n",
    "        xanchor=\"left\",\n",
    "        yanchor=\"top\",\n",
    "    )\n",
    "    \n",
    "    # Update layout\n",
    "    fig.update_layout(\n",
    "        title_text=\"Comparison of Generations\",\n",
    "        height=800,\n",
    "        showlegend=False,\n",
    "        plot_bgcolor=\"rgba(0,0,0,0)\",\n",
    "        margin=dict(t=50, b=50, l=50, r=50)\n",
    "    )\n",
    "    \n",
    "    # Remove axes\n",
    "    fig.update_xaxes(visible=False)\n",
    "    fig.update_yaxes(visible=False)\n",
    "    \n",
    "    # Save if requested\n",
    "    if save_path:\n",
    "        fig.write_image(save_path)\n",
    "        fig.write_html(save_path.replace(\".png\", \".html\"))\n",
    "    \n",
    "    fig.show()\n",
    "\n",
    "def visualize_all_results(results, save_dir=None):\n",
    "    \"\"\"\n",
    "    Create all visualizations in one go\n",
    "    \n",
    "    Args:\n",
    "        results: Results dictionary from run_generation_phase_patching_analysis\n",
    "        save_dir: Directory to save visualizations (optional)\n",
    "    \"\"\"\n",
    "    import os\n",
    "    import plotly.graph_objects as go\n",
    "    \n",
    "    # Create save directory if needed\n",
    "    if save_dir and not os.path.exists(save_dir):\n",
    "        os.makedirs(save_dir)\n",
    "    \n",
    "    # Prepare save paths\n",
    "    layer_impact_path = None\n",
    "    token_impact_path = None\n",
    "    heatmap_path = None\n",
    "    comparison_path = None\n",
    "    \n",
    "    if save_dir:\n",
    "        layer_impact_path = os.path.join(save_dir, \"layer_impact.png\")\n",
    "        token_impact_path = os.path.join(save_dir, \"token_impact.png\")\n",
    "        heatmap_path = os.path.join(save_dir, \"heatmap.png\")\n",
    "        comparison_path = os.path.join(save_dir, \"generation_comparison.png\")\n",
    "    \n",
    "    # Create visualizations\n",
    "    visualize_layer_impact(\n",
    "        results[\"analysis_results\"], \n",
    "        save_path=layer_impact_path\n",
    "    )\n",
    "    \n",
    "    visualize_token_position_impact(\n",
    "        results[\"patching_results\"],\n",
    "        results[\"analysis_results\"], \n",
    "        results.get(\"tokenizer\", None),  # Pass tokenizer if available\n",
    "        save_path=token_impact_path\n",
    "    )\n",
    "    \n",
    "    visualize_heatmap(\n",
    "        results[\"patching_results\"], \n",
    "        save_path=heatmap_path\n",
    "    )\n",
    "    \n",
    "    if \"patched_generation\" in results:\n",
    "        visualize_generation_comparison(\n",
    "            results, \n",
    "            save_path=comparison_path\n",
    "        )\n",
    "\n",
    "def run_generation_phase_patching_analysis(\n",
    "    model,\n",
    "    tokenizer,\n",
    "    clean_prompt,\n",
    "    corrupted_prompt,\n",
    "    layers_to_patch=None,\n",
    "    max_tokens_to_generate=20,\n",
    "    max_new_tokens=100,\n",
    "    device=None,\n",
    "    save_visualizations=False,\n",
    "    visualization_prefix=\"patching_\",\n",
    "    generate_complete_patched=True\n",
    "):\n",
    "    \"\"\"\n",
    "    Run a complete generation-phase patching analysis.\n",
    "    \n",
    "    This function combines all the above functions into a single workflow.\n",
    "    \n",
    "    Args:\n",
    "        model: The language model\n",
    "        tokenizer: The tokenizer\n",
    "        clean_prompt: The base prompt without additional information\n",
    "        corrupted_prompt: The prompt with additional information (e.g., a hint)\n",
    "        layers_to_patch: List of layer indices to patch (default: all layers)\n",
    "        max_tokens_to_generate: Maximum number of tokens to analyze with patching\n",
    "        max_new_tokens: Maximum tokens to generate for baseline outputs\n",
    "        device: Device to run on (if None, will use get_device())\n",
    "        save_visualizations: Whether to save visualization files\n",
    "        visualization_prefix: Prefix for saved visualization files\n",
    "        generate_complete_patched: Whether to generate a complete patched output\n",
    "    \n",
    "    Returns:\n",
    "        Dictionary with all results\n",
    "    \"\"\"\n",
    "    # Import visualization functions\n",
    "    import plotly.graph_objects as go\n",
    "    \n",
    "    # Get appropriate device\n",
    "    if device is None:\n",
    "        device = get_device()\n",
    "    \n",
    "    print(f\"Using device: {device}\")\n",
    "    \n",
    "    # 1. Tokenize prompts\n",
    "    clean_tokens, corrupted_tokens, formatted_clean, formatted_corrupted = tokenize_prompts(\n",
    "        clean_prompt, corrupted_prompt, tokenizer, device\n",
    "    )\n",
    "    \n",
    "    # 2. Generate baseline outputs\n",
    "    clean_generation, corrupted_generation = generate_baseline_outputs(\n",
    "        model, tokenizer, clean_tokens, corrupted_tokens, max_new_tokens\n",
    "    )\n",
    "    \n",
    "    # 3. Run initial passes to extract hidden states\n",
    "    clean_hidden_states, corrupted_hidden_states = run_initial_passes(\n",
    "        model, clean_tokens, corrupted_tokens\n",
    "    )\n",
    "    \n",
    "    # 4. Run generation-phase patching\n",
    "    patching_results = run_generation_phase_patching(\n",
    "        model, \n",
    "        tokenizer, \n",
    "        clean_tokens, \n",
    "        corrupted_hidden_states, \n",
    "        layers_to_patch=layers_to_patch,\n",
    "        max_tokens_to_generate=max_tokens_to_generate,\n",
    "        device=device\n",
    "    )\n",
    "    \n",
    "    # 5. Analyze results\n",
    "    analysis_results = analyze_patching_results(patching_results, tokenizer)\n",
    "    \n",
    "    # 6. Generate complete patched output using the most impactful layer\n",
    "    patched_generation = None\n",
    "    if generate_complete_patched and analysis_results[\"most_impactful_layers\"]:\n",
    "        # Find the most impactful layer\n",
    "        most_impactful_layer = analysis_results[\"most_impactful_layers\"][0][0]\n",
    "        \n",
    "        # Generate complete output with patching at this layer\n",
    "        patched_generation = generate_patched_output(\n",
    "            model,\n",
    "            tokenizer,\n",
    "            clean_tokens,\n",
    "            corrupted_hidden_states,\n",
    "            most_impactful_layer,\n",
    "            max_new_tokens=max_new_tokens,\n",
    "            device=device\n",
    "        )\n",
    "    \n",
    "    # 7. Visualize results with Plotly\n",
    "    if save_visualizations:\n",
    "        save_dir = None\n",
    "        if isinstance(save_visualizations, str):\n",
    "            save_dir = save_visualizations\n",
    "        else:\n",
    "            save_dir = \"patching_visualizations\"\n",
    "            \n",
    "        visualize_all_results({\n",
    "            \"analysis_results\": analysis_results,\n",
    "            \"patching_results\": patching_results,\n",
    "            \"clean_generation\": clean_generation,\n",
    "            \"corrupted_generation\": corrupted_generation,\n",
    "            \"patched_generation\": patched_generation if patched_generation else None,\n",
    "            \"tokenizer\": tokenizer\n",
    "        }, save_dir=save_dir)\n",
    "    else:\n",
    "        # Just display the visualizations without saving\n",
    "        visualize_layer_impact(analysis_results)\n",
    "        visualize_token_position_impact(patching_results, analysis_results, tokenizer)\n",
    "        visualize_heatmap(patching_results)\n",
    "        if patched_generation:\n",
    "            visualize_generation_comparison({\n",
    "                \"clean_generation\": clean_generation,\n",
    "                \"corrupted_generation\": corrupted_generation,\n",
    "                \"patched_generation\": patched_generation\n",
    "            })\n",
    "    \n",
    "    # 8. Generate reports\n",
    "    detailed_report = generate_detailed_report(\n",
    "        patching_results, \n",
    "        analysis_results, \n",
    "        formatted_clean, \n",
    "        formatted_corrupted, \n",
    "        corrupted_generation\n",
    "    )\n",
    "    concise_insights = generate_concise_insights(\n",
    "        patching_results,\n",
    "        analysis_results,\n",
    "        corrupted_generation\n",
    "    )\n",
    "    \n",
    "    # Add information about the patched generation\n",
    "    if patched_generation:\n",
    "        detailed_report += \"\\n\\n\" + \"=\" * 80\n",
    "        detailed_report += f\"\\nFULL PATCHED GENERATION (Layer {patched_generation['layer_patched']}):\"\n",
    "        detailed_report += f\"\\n{patched_generation['patched_generation_text']}\"\n",
    "        \n",
    "        # Compare the three outputs\n",
    "        detailed_report += \"\\n\\n\" + \"=\" * 80\n",
    "        detailed_report += \"\\nCOMPARISON OF ALL THREE GENERATIONS:\"\n",
    "        detailed_report += f\"\\n1. Clean prompt: {clean_generation['generated_text']}\"\n",
    "        detailed_report += f\"\\n2. Corrupted prompt: {corrupted_generation['generated_text']}\"\n",
    "        detailed_report += f\"\\n3. Patched at layer {patched_generation['layer_patched']}: {patched_generation['patched_generation_text']}\"\n",
    "    \n",
    "    print(\"\\n\" + detailed_report)\n",
    "    print(\"\\n\" + concise_insights)\n",
    "    \n",
    "    # Return all results\n",
    "    results = {\n",
    "        \"clean_prompt\": formatted_clean,\n",
    "        \"corrupted_prompt\": formatted_corrupted,\n",
    "        \"clean_generation\": clean_generation,\n",
    "        \"corrupted_generation\": corrupted_generation,\n",
    "        \"patching_results\": patching_results,\n",
    "        \"analysis_results\": analysis_results,\n",
    "        \"detailed_report\": detailed_report,\n",
    "        \"concise_insights\": concise_insights\n",
    "    }\n",
    "    \n",
    "    # Add patched generation if available\n",
    "    if patched_generation:\n",
    "        results[\"patched_generation\"] = patched_generation\n",
    "    \n",
    "    return results\n",
    "\n",
    "\n"
   ]
  },
  {
   "cell_type": "code",
   "execution_count": null,
   "metadata": {},
   "outputs": [],
   "source": []
  },
  {
   "cell_type": "code",
   "execution_count": 6,
   "metadata": {},
   "outputs": [
    {
     "name": "stdout",
     "output_type": "stream",
     "text": [
      "Using device: cpu\n",
      "Using device: cpu\n",
      "Clean prompt: <｜begin▁of▁sentence｜><｜User｜>Solve this equation: 3x^2 - 12x + 9 = 0<｜Assistant｜><think>\n",
      "\n",
      "Corrupted prompt: <｜begin▁of▁sentence｜><｜User｜>Solve this equation: 3x^2 - 12x + 9 = 0\n",
      "\n",
      "Hint: Quadratic Formula<｜Assistant｜><think>\n",
      "\n",
      "Generating baseline outputs...\n",
      "Clean output: I start with the quadratic equation 3x² - 12x + 9 = 0. To simplify, I'll first factor out the greatest common factor, which is 3, from all the terms. This gives me 3(x\n",
      "Corrupted output: To solve the quadratic equation \\( 3x^2 - 12x + 9 = 0 \\), I'll start by identifying the coefficients. Here, \\( a = 3 \\), \\( b = -12 \\), and \\( c\n",
      "Running initial forward passes...\n",
      "Initial passes complete.\n",
      "Running generation-phase patching...\n"
     ]
    },
    {
     "data": {
      "application/vnd.jupyter.widget-view+json": {
       "model_id": "9bc43a900d4b4c998603ec7b26bce9cf",
       "version_major": 2,
       "version_minor": 0
      },
      "text/plain": [
       "  0%|          | 0/10 [00:00<?, ?it/s]"
      ]
     },
     "metadata": {},
     "output_type": "display_data"
    },
    {
     "name": "stdout",
     "output_type": "stream",
     "text": [
      "Generation-phase patching complete.\n",
      "Generating complete output with patching at layer 21...\n"
     ]
    },
    {
     "data": {
      "application/vnd.jupyter.widget-view+json": {
       "model_id": "b14142fdc2da48e3baea2d0dc2faf3aa",
       "version_major": 2,
       "version_minor": 0
      },
      "text/plain": [
       "  0%|          | 0/50 [00:00<?, ?it/s]"
      ]
     },
     "metadata": {},
     "output_type": "display_data"
    },
    {
     "name": "stderr",
     "output_type": "stream",
     "text": [
      "huggingface/tokenizers: The current process just got forked, after parallelism has already been used. Disabling parallelism to avoid deadlocks...\n",
      "To disable this warning, you can either:\n",
      "\t- Avoid using `tokenizers` before the fork if possible\n",
      "\t- Explicitly set the environment variable TOKENIZERS_PARALLELISM=(true | false)\n"
     ]
    },
    {
     "data": {
      "application/vnd.plotly.v1+json": {
       "config": {
        "plotlyServerURL": "https://plot.ly"
       },
       "data": [
        {
         "hovertemplate": "Layer %{x}<br>Changed %{y} tokens<extra></extra>",
         "marker": {
          "color": [
           "rgba(255, 0, 0, 0.8)"
          ]
         },
         "text": [
          "8"
         ],
         "textposition": "outside",
         "type": "bar",
         "x": [
          21
         ],
         "y": [
          8
         ]
        }
       ],
       "layout": {
        "annotations": [
         {
          "arrowhead": 1,
          "font": {
           "size": 14
          },
          "showarrow": true,
          "text": "Most impactful: Layer 21",
          "x": 21,
          "y": 8.5
         }
        ],
        "height": 600,
        "hoverlabel": {
         "bgcolor": "white",
         "font": {
          "size": 12
         }
        },
        "template": {
         "data": {
          "bar": [
           {
            "error_x": {
             "color": "#2a3f5f"
            },
            "error_y": {
             "color": "#2a3f5f"
            },
            "marker": {
             "line": {
              "color": "white",
              "width": 0.5
             },
             "pattern": {
              "fillmode": "overlay",
              "size": 10,
              "solidity": 0.2
             }
            },
            "type": "bar"
           }
          ],
          "barpolar": [
           {
            "marker": {
             "line": {
              "color": "white",
              "width": 0.5
             },
             "pattern": {
              "fillmode": "overlay",
              "size": 10,
              "solidity": 0.2
             }
            },
            "type": "barpolar"
           }
          ],
          "carpet": [
           {
            "aaxis": {
             "endlinecolor": "#2a3f5f",
             "gridcolor": "#C8D4E3",
             "linecolor": "#C8D4E3",
             "minorgridcolor": "#C8D4E3",
             "startlinecolor": "#2a3f5f"
            },
            "baxis": {
             "endlinecolor": "#2a3f5f",
             "gridcolor": "#C8D4E3",
             "linecolor": "#C8D4E3",
             "minorgridcolor": "#C8D4E3",
             "startlinecolor": "#2a3f5f"
            },
            "type": "carpet"
           }
          ],
          "choropleth": [
           {
            "colorbar": {
             "outlinewidth": 0,
             "ticks": ""
            },
            "type": "choropleth"
           }
          ],
          "contour": [
           {
            "colorbar": {
             "outlinewidth": 0,
             "ticks": ""
            },
            "colorscale": [
             [
              0,
              "#0d0887"
             ],
             [
              0.1111111111111111,
              "#46039f"
             ],
             [
              0.2222222222222222,
              "#7201a8"
             ],
             [
              0.3333333333333333,
              "#9c179e"
             ],
             [
              0.4444444444444444,
              "#bd3786"
             ],
             [
              0.5555555555555556,
              "#d8576b"
             ],
             [
              0.6666666666666666,
              "#ed7953"
             ],
             [
              0.7777777777777778,
              "#fb9f3a"
             ],
             [
              0.8888888888888888,
              "#fdca26"
             ],
             [
              1,
              "#f0f921"
             ]
            ],
            "type": "contour"
           }
          ],
          "contourcarpet": [
           {
            "colorbar": {
             "outlinewidth": 0,
             "ticks": ""
            },
            "type": "contourcarpet"
           }
          ],
          "heatmap": [
           {
            "colorbar": {
             "outlinewidth": 0,
             "ticks": ""
            },
            "colorscale": [
             [
              0,
              "#0d0887"
             ],
             [
              0.1111111111111111,
              "#46039f"
             ],
             [
              0.2222222222222222,
              "#7201a8"
             ],
             [
              0.3333333333333333,
              "#9c179e"
             ],
             [
              0.4444444444444444,
              "#bd3786"
             ],
             [
              0.5555555555555556,
              "#d8576b"
             ],
             [
              0.6666666666666666,
              "#ed7953"
             ],
             [
              0.7777777777777778,
              "#fb9f3a"
             ],
             [
              0.8888888888888888,
              "#fdca26"
             ],
             [
              1,
              "#f0f921"
             ]
            ],
            "type": "heatmap"
           }
          ],
          "heatmapgl": [
           {
            "colorbar": {
             "outlinewidth": 0,
             "ticks": ""
            },
            "colorscale": [
             [
              0,
              "#0d0887"
             ],
             [
              0.1111111111111111,
              "#46039f"
             ],
             [
              0.2222222222222222,
              "#7201a8"
             ],
             [
              0.3333333333333333,
              "#9c179e"
             ],
             [
              0.4444444444444444,
              "#bd3786"
             ],
             [
              0.5555555555555556,
              "#d8576b"
             ],
             [
              0.6666666666666666,
              "#ed7953"
             ],
             [
              0.7777777777777778,
              "#fb9f3a"
             ],
             [
              0.8888888888888888,
              "#fdca26"
             ],
             [
              1,
              "#f0f921"
             ]
            ],
            "type": "heatmapgl"
           }
          ],
          "histogram": [
           {
            "marker": {
             "pattern": {
              "fillmode": "overlay",
              "size": 10,
              "solidity": 0.2
             }
            },
            "type": "histogram"
           }
          ],
          "histogram2d": [
           {
            "colorbar": {
             "outlinewidth": 0,
             "ticks": ""
            },
            "colorscale": [
             [
              0,
              "#0d0887"
             ],
             [
              0.1111111111111111,
              "#46039f"
             ],
             [
              0.2222222222222222,
              "#7201a8"
             ],
             [
              0.3333333333333333,
              "#9c179e"
             ],
             [
              0.4444444444444444,
              "#bd3786"
             ],
             [
              0.5555555555555556,
              "#d8576b"
             ],
             [
              0.6666666666666666,
              "#ed7953"
             ],
             [
              0.7777777777777778,
              "#fb9f3a"
             ],
             [
              0.8888888888888888,
              "#fdca26"
             ],
             [
              1,
              "#f0f921"
             ]
            ],
            "type": "histogram2d"
           }
          ],
          "histogram2dcontour": [
           {
            "colorbar": {
             "outlinewidth": 0,
             "ticks": ""
            },
            "colorscale": [
             [
              0,
              "#0d0887"
             ],
             [
              0.1111111111111111,
              "#46039f"
             ],
             [
              0.2222222222222222,
              "#7201a8"
             ],
             [
              0.3333333333333333,
              "#9c179e"
             ],
             [
              0.4444444444444444,
              "#bd3786"
             ],
             [
              0.5555555555555556,
              "#d8576b"
             ],
             [
              0.6666666666666666,
              "#ed7953"
             ],
             [
              0.7777777777777778,
              "#fb9f3a"
             ],
             [
              0.8888888888888888,
              "#fdca26"
             ],
             [
              1,
              "#f0f921"
             ]
            ],
            "type": "histogram2dcontour"
           }
          ],
          "mesh3d": [
           {
            "colorbar": {
             "outlinewidth": 0,
             "ticks": ""
            },
            "type": "mesh3d"
           }
          ],
          "parcoords": [
           {
            "line": {
             "colorbar": {
              "outlinewidth": 0,
              "ticks": ""
             }
            },
            "type": "parcoords"
           }
          ],
          "pie": [
           {
            "automargin": true,
            "type": "pie"
           }
          ],
          "scatter": [
           {
            "fillpattern": {
             "fillmode": "overlay",
             "size": 10,
             "solidity": 0.2
            },
            "type": "scatter"
           }
          ],
          "scatter3d": [
           {
            "line": {
             "colorbar": {
              "outlinewidth": 0,
              "ticks": ""
             }
            },
            "marker": {
             "colorbar": {
              "outlinewidth": 0,
              "ticks": ""
             }
            },
            "type": "scatter3d"
           }
          ],
          "scattercarpet": [
           {
            "marker": {
             "colorbar": {
              "outlinewidth": 0,
              "ticks": ""
             }
            },
            "type": "scattercarpet"
           }
          ],
          "scattergeo": [
           {
            "marker": {
             "colorbar": {
              "outlinewidth": 0,
              "ticks": ""
             }
            },
            "type": "scattergeo"
           }
          ],
          "scattergl": [
           {
            "marker": {
             "colorbar": {
              "outlinewidth": 0,
              "ticks": ""
             }
            },
            "type": "scattergl"
           }
          ],
          "scattermapbox": [
           {
            "marker": {
             "colorbar": {
              "outlinewidth": 0,
              "ticks": ""
             }
            },
            "type": "scattermapbox"
           }
          ],
          "scatterpolar": [
           {
            "marker": {
             "colorbar": {
              "outlinewidth": 0,
              "ticks": ""
             }
            },
            "type": "scatterpolar"
           }
          ],
          "scatterpolargl": [
           {
            "marker": {
             "colorbar": {
              "outlinewidth": 0,
              "ticks": ""
             }
            },
            "type": "scatterpolargl"
           }
          ],
          "scatterternary": [
           {
            "marker": {
             "colorbar": {
              "outlinewidth": 0,
              "ticks": ""
             }
            },
            "type": "scatterternary"
           }
          ],
          "surface": [
           {
            "colorbar": {
             "outlinewidth": 0,
             "ticks": ""
            },
            "colorscale": [
             [
              0,
              "#0d0887"
             ],
             [
              0.1111111111111111,
              "#46039f"
             ],
             [
              0.2222222222222222,
              "#7201a8"
             ],
             [
              0.3333333333333333,
              "#9c179e"
             ],
             [
              0.4444444444444444,
              "#bd3786"
             ],
             [
              0.5555555555555556,
              "#d8576b"
             ],
             [
              0.6666666666666666,
              "#ed7953"
             ],
             [
              0.7777777777777778,
              "#fb9f3a"
             ],
             [
              0.8888888888888888,
              "#fdca26"
             ],
             [
              1,
              "#f0f921"
             ]
            ],
            "type": "surface"
           }
          ],
          "table": [
           {
            "cells": {
             "fill": {
              "color": "#EBF0F8"
             },
             "line": {
              "color": "white"
             }
            },
            "header": {
             "fill": {
              "color": "#C8D4E3"
             },
             "line": {
              "color": "white"
             }
            },
            "type": "table"
           }
          ]
         },
         "layout": {
          "annotationdefaults": {
           "arrowcolor": "#2a3f5f",
           "arrowhead": 0,
           "arrowwidth": 1
          },
          "autotypenumbers": "strict",
          "coloraxis": {
           "colorbar": {
            "outlinewidth": 0,
            "ticks": ""
           }
          },
          "colorscale": {
           "diverging": [
            [
             0,
             "#8e0152"
            ],
            [
             0.1,
             "#c51b7d"
            ],
            [
             0.2,
             "#de77ae"
            ],
            [
             0.3,
             "#f1b6da"
            ],
            [
             0.4,
             "#fde0ef"
            ],
            [
             0.5,
             "#f7f7f7"
            ],
            [
             0.6,
             "#e6f5d0"
            ],
            [
             0.7,
             "#b8e186"
            ],
            [
             0.8,
             "#7fbc41"
            ],
            [
             0.9,
             "#4d9221"
            ],
            [
             1,
             "#276419"
            ]
           ],
           "sequential": [
            [
             0,
             "#0d0887"
            ],
            [
             0.1111111111111111,
             "#46039f"
            ],
            [
             0.2222222222222222,
             "#7201a8"
            ],
            [
             0.3333333333333333,
             "#9c179e"
            ],
            [
             0.4444444444444444,
             "#bd3786"
            ],
            [
             0.5555555555555556,
             "#d8576b"
            ],
            [
             0.6666666666666666,
             "#ed7953"
            ],
            [
             0.7777777777777778,
             "#fb9f3a"
            ],
            [
             0.8888888888888888,
             "#fdca26"
            ],
            [
             1,
             "#f0f921"
            ]
           ],
           "sequentialminus": [
            [
             0,
             "#0d0887"
            ],
            [
             0.1111111111111111,
             "#46039f"
            ],
            [
             0.2222222222222222,
             "#7201a8"
            ],
            [
             0.3333333333333333,
             "#9c179e"
            ],
            [
             0.4444444444444444,
             "#bd3786"
            ],
            [
             0.5555555555555556,
             "#d8576b"
            ],
            [
             0.6666666666666666,
             "#ed7953"
            ],
            [
             0.7777777777777778,
             "#fb9f3a"
            ],
            [
             0.8888888888888888,
             "#fdca26"
            ],
            [
             1,
             "#f0f921"
            ]
           ]
          },
          "colorway": [
           "#636efa",
           "#EF553B",
           "#00cc96",
           "#ab63fa",
           "#FFA15A",
           "#19d3f3",
           "#FF6692",
           "#B6E880",
           "#FF97FF",
           "#FECB52"
          ],
          "font": {
           "color": "#2a3f5f"
          },
          "geo": {
           "bgcolor": "white",
           "lakecolor": "white",
           "landcolor": "white",
           "showlakes": true,
           "showland": true,
           "subunitcolor": "#C8D4E3"
          },
          "hoverlabel": {
           "align": "left"
          },
          "hovermode": "closest",
          "mapbox": {
           "style": "light"
          },
          "paper_bgcolor": "white",
          "plot_bgcolor": "white",
          "polar": {
           "angularaxis": {
            "gridcolor": "#EBF0F8",
            "linecolor": "#EBF0F8",
            "ticks": ""
           },
           "bgcolor": "white",
           "radialaxis": {
            "gridcolor": "#EBF0F8",
            "linecolor": "#EBF0F8",
            "ticks": ""
           }
          },
          "scene": {
           "xaxis": {
            "backgroundcolor": "white",
            "gridcolor": "#DFE8F3",
            "gridwidth": 2,
            "linecolor": "#EBF0F8",
            "showbackground": true,
            "ticks": "",
            "zerolinecolor": "#EBF0F8"
           },
           "yaxis": {
            "backgroundcolor": "white",
            "gridcolor": "#DFE8F3",
            "gridwidth": 2,
            "linecolor": "#EBF0F8",
            "showbackground": true,
            "ticks": "",
            "zerolinecolor": "#EBF0F8"
           },
           "zaxis": {
            "backgroundcolor": "white",
            "gridcolor": "#DFE8F3",
            "gridwidth": 2,
            "linecolor": "#EBF0F8",
            "showbackground": true,
            "ticks": "",
            "zerolinecolor": "#EBF0F8"
           }
          },
          "shapedefaults": {
           "line": {
            "color": "#2a3f5f"
           }
          },
          "ternary": {
           "aaxis": {
            "gridcolor": "#DFE8F3",
            "linecolor": "#A2B1C6",
            "ticks": ""
           },
           "baxis": {
            "gridcolor": "#DFE8F3",
            "linecolor": "#A2B1C6",
            "ticks": ""
           },
           "bgcolor": "white",
           "caxis": {
            "gridcolor": "#DFE8F3",
            "linecolor": "#A2B1C6",
            "ticks": ""
           }
          },
          "title": {
           "x": 0.05
          },
          "xaxis": {
           "automargin": true,
           "gridcolor": "#EBF0F8",
           "linecolor": "#EBF0F8",
           "ticks": "",
           "title": {
            "standoff": 15
           },
           "zerolinecolor": "#EBF0F8",
           "zerolinewidth": 2
          },
          "yaxis": {
           "automargin": true,
           "gridcolor": "#EBF0F8",
           "linecolor": "#EBF0F8",
           "ticks": "",
           "title": {
            "standoff": 15
           },
           "zerolinecolor": "#EBF0F8",
           "zerolinewidth": 2
          }
         }
        },
        "title": {
         "text": "Impact of Layer Patching on Token Generation"
        },
        "xaxis": {
         "tickmode": "array",
         "tickvals": [
          21
         ],
         "title": {
          "text": "Model Layer"
         }
        },
        "yaxis": {
         "title": {
          "text": "Number of Tokens Changed"
         }
        }
       }
      }
     },
     "metadata": {},
     "output_type": "display_data"
    },
    {
     "data": {
      "application/vnd.plotly.v1+json": {
       "config": {
        "plotlyServerURL": "https://plot.ly"
       },
       "data": [
        {
         "hovertemplate": "%{hovertext}<br>Changed by %{y} layers<extra></extra>",
         "hovertext": [
          "Position: 0<br>Token: 'I'<br>Context:  equation: 3x^2 - 12x + 9 = 0<｜Assistant｜><think>\n...",
          "Position: 1<br>Token: ' need'<br>Context: equation: 3x^2 - 12x + 9 = 0<｜Assistant｜><think>\nI...",
          "Position: 2<br>Token: ' to'<br>Context: ion: 3x^2 - 12x + 9 = 0<｜Assistant｜><think>\nI need...",
          "Position: 3<br>Token: ' solve'<br>Context: : 3x^2 - 12x + 9 = 0<｜Assistant｜><think>\nI need to...",
          "Position: 4<br>Token: ' the'<br>Context:  - 12x + 9 = 0<｜Assistant｜><think>\nI need to solve...",
          "Position: 5<br>Token: ' quadratic'<br>Context: 2x + 9 = 0<｜Assistant｜><think>\nI need to solve the...",
          "Position: 6<br>Token: ' equation'<br>Context: <｜Assistant｜><think>\nI need to solve the quadratic...",
          "Position: 7<br>Token: ' \\('<br>Context: nt｜><think>\nI need to solve the quadratic equation...",
          "Position: 8<br>Token: '3'<br>Context: ><think>\nI need to solve the quadratic equation \\(...",
          "Position: 9<br>Token: 'x'<br>Context: <think>\nI need to solve the quadratic equation \\(3..."
         ],
         "marker": {
          "color": [
           "rgba(128, 0, 128, 0.8)",
           "rgba(0, 128, 0, 0.6)",
           "rgba(0, 128, 0, 0.6)",
           "rgba(0, 128, 0, 0.6)",
           "rgba(0, 128, 0, 0.6)",
           "rgba(0, 128, 0, 0.6)",
           "rgba(0, 128, 0, 0.6)",
           "rgba(0, 128, 0, 0.6)",
           "rgba(0, 128, 0, 0.6)",
           "rgba(0, 128, 0, 0.6)"
          ]
         },
         "text": [
          "1",
          "1",
          "1",
          "1",
          "1",
          "1",
          "1",
          "1",
          "0",
          "0"
         ],
         "textposition": "outside",
         "type": "bar",
         "x": [
          "0: 'I'",
          "1: ' need'",
          "2: ' to'",
          "3: ' solve'",
          "4: ' the'",
          "5: ' quadratic'",
          "6: ' equation'",
          "7: ' \\('",
          "8: '3'",
          "9: 'x'"
         ],
         "y": [
          1,
          1,
          1,
          1,
          1,
          1,
          1,
          1,
          0,
          0
         ]
        }
       ],
       "layout": {
        "height": 600,
        "hoverlabel": {
         "bgcolor": "white",
         "font": {
          "size": 12
         }
        },
        "template": {
         "data": {
          "bar": [
           {
            "error_x": {
             "color": "#2a3f5f"
            },
            "error_y": {
             "color": "#2a3f5f"
            },
            "marker": {
             "line": {
              "color": "white",
              "width": 0.5
             },
             "pattern": {
              "fillmode": "overlay",
              "size": 10,
              "solidity": 0.2
             }
            },
            "type": "bar"
           }
          ],
          "barpolar": [
           {
            "marker": {
             "line": {
              "color": "white",
              "width": 0.5
             },
             "pattern": {
              "fillmode": "overlay",
              "size": 10,
              "solidity": 0.2
             }
            },
            "type": "barpolar"
           }
          ],
          "carpet": [
           {
            "aaxis": {
             "endlinecolor": "#2a3f5f",
             "gridcolor": "#C8D4E3",
             "linecolor": "#C8D4E3",
             "minorgridcolor": "#C8D4E3",
             "startlinecolor": "#2a3f5f"
            },
            "baxis": {
             "endlinecolor": "#2a3f5f",
             "gridcolor": "#C8D4E3",
             "linecolor": "#C8D4E3",
             "minorgridcolor": "#C8D4E3",
             "startlinecolor": "#2a3f5f"
            },
            "type": "carpet"
           }
          ],
          "choropleth": [
           {
            "colorbar": {
             "outlinewidth": 0,
             "ticks": ""
            },
            "type": "choropleth"
           }
          ],
          "contour": [
           {
            "colorbar": {
             "outlinewidth": 0,
             "ticks": ""
            },
            "colorscale": [
             [
              0,
              "#0d0887"
             ],
             [
              0.1111111111111111,
              "#46039f"
             ],
             [
              0.2222222222222222,
              "#7201a8"
             ],
             [
              0.3333333333333333,
              "#9c179e"
             ],
             [
              0.4444444444444444,
              "#bd3786"
             ],
             [
              0.5555555555555556,
              "#d8576b"
             ],
             [
              0.6666666666666666,
              "#ed7953"
             ],
             [
              0.7777777777777778,
              "#fb9f3a"
             ],
             [
              0.8888888888888888,
              "#fdca26"
             ],
             [
              1,
              "#f0f921"
             ]
            ],
            "type": "contour"
           }
          ],
          "contourcarpet": [
           {
            "colorbar": {
             "outlinewidth": 0,
             "ticks": ""
            },
            "type": "contourcarpet"
           }
          ],
          "heatmap": [
           {
            "colorbar": {
             "outlinewidth": 0,
             "ticks": ""
            },
            "colorscale": [
             [
              0,
              "#0d0887"
             ],
             [
              0.1111111111111111,
              "#46039f"
             ],
             [
              0.2222222222222222,
              "#7201a8"
             ],
             [
              0.3333333333333333,
              "#9c179e"
             ],
             [
              0.4444444444444444,
              "#bd3786"
             ],
             [
              0.5555555555555556,
              "#d8576b"
             ],
             [
              0.6666666666666666,
              "#ed7953"
             ],
             [
              0.7777777777777778,
              "#fb9f3a"
             ],
             [
              0.8888888888888888,
              "#fdca26"
             ],
             [
              1,
              "#f0f921"
             ]
            ],
            "type": "heatmap"
           }
          ],
          "heatmapgl": [
           {
            "colorbar": {
             "outlinewidth": 0,
             "ticks": ""
            },
            "colorscale": [
             [
              0,
              "#0d0887"
             ],
             [
              0.1111111111111111,
              "#46039f"
             ],
             [
              0.2222222222222222,
              "#7201a8"
             ],
             [
              0.3333333333333333,
              "#9c179e"
             ],
             [
              0.4444444444444444,
              "#bd3786"
             ],
             [
              0.5555555555555556,
              "#d8576b"
             ],
             [
              0.6666666666666666,
              "#ed7953"
             ],
             [
              0.7777777777777778,
              "#fb9f3a"
             ],
             [
              0.8888888888888888,
              "#fdca26"
             ],
             [
              1,
              "#f0f921"
             ]
            ],
            "type": "heatmapgl"
           }
          ],
          "histogram": [
           {
            "marker": {
             "pattern": {
              "fillmode": "overlay",
              "size": 10,
              "solidity": 0.2
             }
            },
            "type": "histogram"
           }
          ],
          "histogram2d": [
           {
            "colorbar": {
             "outlinewidth": 0,
             "ticks": ""
            },
            "colorscale": [
             [
              0,
              "#0d0887"
             ],
             [
              0.1111111111111111,
              "#46039f"
             ],
             [
              0.2222222222222222,
              "#7201a8"
             ],
             [
              0.3333333333333333,
              "#9c179e"
             ],
             [
              0.4444444444444444,
              "#bd3786"
             ],
             [
              0.5555555555555556,
              "#d8576b"
             ],
             [
              0.6666666666666666,
              "#ed7953"
             ],
             [
              0.7777777777777778,
              "#fb9f3a"
             ],
             [
              0.8888888888888888,
              "#fdca26"
             ],
             [
              1,
              "#f0f921"
             ]
            ],
            "type": "histogram2d"
           }
          ],
          "histogram2dcontour": [
           {
            "colorbar": {
             "outlinewidth": 0,
             "ticks": ""
            },
            "colorscale": [
             [
              0,
              "#0d0887"
             ],
             [
              0.1111111111111111,
              "#46039f"
             ],
             [
              0.2222222222222222,
              "#7201a8"
             ],
             [
              0.3333333333333333,
              "#9c179e"
             ],
             [
              0.4444444444444444,
              "#bd3786"
             ],
             [
              0.5555555555555556,
              "#d8576b"
             ],
             [
              0.6666666666666666,
              "#ed7953"
             ],
             [
              0.7777777777777778,
              "#fb9f3a"
             ],
             [
              0.8888888888888888,
              "#fdca26"
             ],
             [
              1,
              "#f0f921"
             ]
            ],
            "type": "histogram2dcontour"
           }
          ],
          "mesh3d": [
           {
            "colorbar": {
             "outlinewidth": 0,
             "ticks": ""
            },
            "type": "mesh3d"
           }
          ],
          "parcoords": [
           {
            "line": {
             "colorbar": {
              "outlinewidth": 0,
              "ticks": ""
             }
            },
            "type": "parcoords"
           }
          ],
          "pie": [
           {
            "automargin": true,
            "type": "pie"
           }
          ],
          "scatter": [
           {
            "fillpattern": {
             "fillmode": "overlay",
             "size": 10,
             "solidity": 0.2
            },
            "type": "scatter"
           }
          ],
          "scatter3d": [
           {
            "line": {
             "colorbar": {
              "outlinewidth": 0,
              "ticks": ""
             }
            },
            "marker": {
             "colorbar": {
              "outlinewidth": 0,
              "ticks": ""
             }
            },
            "type": "scatter3d"
           }
          ],
          "scattercarpet": [
           {
            "marker": {
             "colorbar": {
              "outlinewidth": 0,
              "ticks": ""
             }
            },
            "type": "scattercarpet"
           }
          ],
          "scattergeo": [
           {
            "marker": {
             "colorbar": {
              "outlinewidth": 0,
              "ticks": ""
             }
            },
            "type": "scattergeo"
           }
          ],
          "scattergl": [
           {
            "marker": {
             "colorbar": {
              "outlinewidth": 0,
              "ticks": ""
             }
            },
            "type": "scattergl"
           }
          ],
          "scattermapbox": [
           {
            "marker": {
             "colorbar": {
              "outlinewidth": 0,
              "ticks": ""
             }
            },
            "type": "scattermapbox"
           }
          ],
          "scatterpolar": [
           {
            "marker": {
             "colorbar": {
              "outlinewidth": 0,
              "ticks": ""
             }
            },
            "type": "scatterpolar"
           }
          ],
          "scatterpolargl": [
           {
            "marker": {
             "colorbar": {
              "outlinewidth": 0,
              "ticks": ""
             }
            },
            "type": "scatterpolargl"
           }
          ],
          "scatterternary": [
           {
            "marker": {
             "colorbar": {
              "outlinewidth": 0,
              "ticks": ""
             }
            },
            "type": "scatterternary"
           }
          ],
          "surface": [
           {
            "colorbar": {
             "outlinewidth": 0,
             "ticks": ""
            },
            "colorscale": [
             [
              0,
              "#0d0887"
             ],
             [
              0.1111111111111111,
              "#46039f"
             ],
             [
              0.2222222222222222,
              "#7201a8"
             ],
             [
              0.3333333333333333,
              "#9c179e"
             ],
             [
              0.4444444444444444,
              "#bd3786"
             ],
             [
              0.5555555555555556,
              "#d8576b"
             ],
             [
              0.6666666666666666,
              "#ed7953"
             ],
             [
              0.7777777777777778,
              "#fb9f3a"
             ],
             [
              0.8888888888888888,
              "#fdca26"
             ],
             [
              1,
              "#f0f921"
             ]
            ],
            "type": "surface"
           }
          ],
          "table": [
           {
            "cells": {
             "fill": {
              "color": "#EBF0F8"
             },
             "line": {
              "color": "white"
             }
            },
            "header": {
             "fill": {
              "color": "#C8D4E3"
             },
             "line": {
              "color": "white"
             }
            },
            "type": "table"
           }
          ]
         },
         "layout": {
          "annotationdefaults": {
           "arrowcolor": "#2a3f5f",
           "arrowhead": 0,
           "arrowwidth": 1
          },
          "autotypenumbers": "strict",
          "coloraxis": {
           "colorbar": {
            "outlinewidth": 0,
            "ticks": ""
           }
          },
          "colorscale": {
           "diverging": [
            [
             0,
             "#8e0152"
            ],
            [
             0.1,
             "#c51b7d"
            ],
            [
             0.2,
             "#de77ae"
            ],
            [
             0.3,
             "#f1b6da"
            ],
            [
             0.4,
             "#fde0ef"
            ],
            [
             0.5,
             "#f7f7f7"
            ],
            [
             0.6,
             "#e6f5d0"
            ],
            [
             0.7,
             "#b8e186"
            ],
            [
             0.8,
             "#7fbc41"
            ],
            [
             0.9,
             "#4d9221"
            ],
            [
             1,
             "#276419"
            ]
           ],
           "sequential": [
            [
             0,
             "#0d0887"
            ],
            [
             0.1111111111111111,
             "#46039f"
            ],
            [
             0.2222222222222222,
             "#7201a8"
            ],
            [
             0.3333333333333333,
             "#9c179e"
            ],
            [
             0.4444444444444444,
             "#bd3786"
            ],
            [
             0.5555555555555556,
             "#d8576b"
            ],
            [
             0.6666666666666666,
             "#ed7953"
            ],
            [
             0.7777777777777778,
             "#fb9f3a"
            ],
            [
             0.8888888888888888,
             "#fdca26"
            ],
            [
             1,
             "#f0f921"
            ]
           ],
           "sequentialminus": [
            [
             0,
             "#0d0887"
            ],
            [
             0.1111111111111111,
             "#46039f"
            ],
            [
             0.2222222222222222,
             "#7201a8"
            ],
            [
             0.3333333333333333,
             "#9c179e"
            ],
            [
             0.4444444444444444,
             "#bd3786"
            ],
            [
             0.5555555555555556,
             "#d8576b"
            ],
            [
             0.6666666666666666,
             "#ed7953"
            ],
            [
             0.7777777777777778,
             "#fb9f3a"
            ],
            [
             0.8888888888888888,
             "#fdca26"
            ],
            [
             1,
             "#f0f921"
            ]
           ]
          },
          "colorway": [
           "#636efa",
           "#EF553B",
           "#00cc96",
           "#ab63fa",
           "#FFA15A",
           "#19d3f3",
           "#FF6692",
           "#B6E880",
           "#FF97FF",
           "#FECB52"
          ],
          "font": {
           "color": "#2a3f5f"
          },
          "geo": {
           "bgcolor": "white",
           "lakecolor": "white",
           "landcolor": "white",
           "showlakes": true,
           "showland": true,
           "subunitcolor": "#C8D4E3"
          },
          "hoverlabel": {
           "align": "left"
          },
          "hovermode": "closest",
          "mapbox": {
           "style": "light"
          },
          "paper_bgcolor": "white",
          "plot_bgcolor": "white",
          "polar": {
           "angularaxis": {
            "gridcolor": "#EBF0F8",
            "linecolor": "#EBF0F8",
            "ticks": ""
           },
           "bgcolor": "white",
           "radialaxis": {
            "gridcolor": "#EBF0F8",
            "linecolor": "#EBF0F8",
            "ticks": ""
           }
          },
          "scene": {
           "xaxis": {
            "backgroundcolor": "white",
            "gridcolor": "#DFE8F3",
            "gridwidth": 2,
            "linecolor": "#EBF0F8",
            "showbackground": true,
            "ticks": "",
            "zerolinecolor": "#EBF0F8"
           },
           "yaxis": {
            "backgroundcolor": "white",
            "gridcolor": "#DFE8F3",
            "gridwidth": 2,
            "linecolor": "#EBF0F8",
            "showbackground": true,
            "ticks": "",
            "zerolinecolor": "#EBF0F8"
           },
           "zaxis": {
            "backgroundcolor": "white",
            "gridcolor": "#DFE8F3",
            "gridwidth": 2,
            "linecolor": "#EBF0F8",
            "showbackground": true,
            "ticks": "",
            "zerolinecolor": "#EBF0F8"
           }
          },
          "shapedefaults": {
           "line": {
            "color": "#2a3f5f"
           }
          },
          "ternary": {
           "aaxis": {
            "gridcolor": "#DFE8F3",
            "linecolor": "#A2B1C6",
            "ticks": ""
           },
           "baxis": {
            "gridcolor": "#DFE8F3",
            "linecolor": "#A2B1C6",
            "ticks": ""
           },
           "bgcolor": "white",
           "caxis": {
            "gridcolor": "#DFE8F3",
            "linecolor": "#A2B1C6",
            "ticks": ""
           }
          },
          "title": {
           "x": 0.05
          },
          "xaxis": {
           "automargin": true,
           "gridcolor": "#EBF0F8",
           "linecolor": "#EBF0F8",
           "ticks": "",
           "title": {
            "standoff": 15
           },
           "zerolinecolor": "#EBF0F8",
           "zerolinewidth": 2
          },
          "yaxis": {
           "automargin": true,
           "gridcolor": "#EBF0F8",
           "linecolor": "#EBF0F8",
           "ticks": "",
           "title": {
            "standoff": 15
           },
           "zerolinecolor": "#EBF0F8",
           "zerolinewidth": 2
          }
         }
        },
        "title": {
         "text": "Token Positions Most Affected by Layer Patching"
        },
        "xaxis": {
         "tickangle": 45,
         "title": {
          "text": "Token Position and Value"
         }
        },
        "yaxis": {
         "title": {
          "text": "Number of Layers Causing Change"
         }
        }
       }
      }
     },
     "metadata": {},
     "output_type": "display_data"
    },
    {
     "data": {
      "application/vnd.plotly.v1+json": {
       "config": {
        "plotlyServerURL": "https://plot.ly"
       },
       "data": [
        {
         "colorscale": [
          [
           0,
           "rgb(255,255,204)"
          ],
          [
           0.125,
           "rgb(255,237,160)"
          ],
          [
           0.25,
           "rgb(254,217,118)"
          ],
          [
           0.375,
           "rgb(254,178,76)"
          ],
          [
           0.5,
           "rgb(253,141,60)"
          ],
          [
           0.625,
           "rgb(252,78,42)"
          ],
          [
           0.75,
           "rgb(227,26,28)"
          ],
          [
           0.875,
           "rgb(189,0,38)"
          ],
          [
           1,
           "rgb(128,0,38)"
          ]
         ],
         "customdata": [
          [
           "Position: 0<br>Token: 'I'<br>Context: ... equation: 3x^2 - 12x + 9 = 0<｜Assistant｜><think>\n",
           "Position: 1<br>Token: ' need'<br>Context: ...equation: 3x^2 - 12x + 9 = 0<｜Assistant｜><think>\nI",
           "Position: 2<br>Token: ' to'<br>Context: ...ion: 3x^2 - 12x + 9 = 0<｜Assistant｜><think>\nI need",
           "Position: 3<br>Token: ' solve'<br>Context: ...: 3x^2 - 12x + 9 = 0<｜Assistant｜><think>\nI need to",
           "Position: 4<br>Token: ' the'<br>Context: ... - 12x + 9 = 0<｜Assistant｜><think>\nI need to solve",
           "Position: 5<br>Token: ' quadratic'<br>Context: ...2x + 9 = 0<｜Assistant｜><think>\nI need to solve the",
           "Position: 6<br>Token: ' equation'<br>Context: ...<｜Assistant｜><think>\nI need to solve the quadratic",
           "Position: 7<br>Token: ' \\('<br>Context: ...nt｜><think>\nI need to solve the quadratic equation",
           "Position: 8<br>Token: '3'<br>Context: ...><think>\nI need to solve the quadratic equation \\(",
           "Position: 9<br>Token: 'x'<br>Context: ...<think>\nI need to solve the quadratic equation \\(3"
          ]
         ],
         "hoverongaps": false,
         "hovertemplate": "%{y}<br>%{customdata}<extra></extra>",
         "showscale": true,
         "type": "heatmap",
         "x": [
          "0: 'I'",
          "1: ' need'",
          "2: ' to'",
          "3: ' solve'",
          "4: ' the'",
          "5: ' quadratic'",
          "6: ' equation'",
          "7: ' \\('",
          "8: '3'",
          "9: 'x'"
         ],
         "y": [
          "Layer 21"
         ],
         "z": [
          [
           1,
           1,
           1,
           1,
           1,
           1,
           1,
           1,
           0,
           0
          ]
         ]
        }
       ],
       "layout": {
        "height": 700,
        "hoverlabel": {
         "bgcolor": "white",
         "font": {
          "size": 12
         }
        },
        "template": {
         "data": {
          "bar": [
           {
            "error_x": {
             "color": "#2a3f5f"
            },
            "error_y": {
             "color": "#2a3f5f"
            },
            "marker": {
             "line": {
              "color": "white",
              "width": 0.5
             },
             "pattern": {
              "fillmode": "overlay",
              "size": 10,
              "solidity": 0.2
             }
            },
            "type": "bar"
           }
          ],
          "barpolar": [
           {
            "marker": {
             "line": {
              "color": "white",
              "width": 0.5
             },
             "pattern": {
              "fillmode": "overlay",
              "size": 10,
              "solidity": 0.2
             }
            },
            "type": "barpolar"
           }
          ],
          "carpet": [
           {
            "aaxis": {
             "endlinecolor": "#2a3f5f",
             "gridcolor": "#C8D4E3",
             "linecolor": "#C8D4E3",
             "minorgridcolor": "#C8D4E3",
             "startlinecolor": "#2a3f5f"
            },
            "baxis": {
             "endlinecolor": "#2a3f5f",
             "gridcolor": "#C8D4E3",
             "linecolor": "#C8D4E3",
             "minorgridcolor": "#C8D4E3",
             "startlinecolor": "#2a3f5f"
            },
            "type": "carpet"
           }
          ],
          "choropleth": [
           {
            "colorbar": {
             "outlinewidth": 0,
             "ticks": ""
            },
            "type": "choropleth"
           }
          ],
          "contour": [
           {
            "colorbar": {
             "outlinewidth": 0,
             "ticks": ""
            },
            "colorscale": [
             [
              0,
              "#0d0887"
             ],
             [
              0.1111111111111111,
              "#46039f"
             ],
             [
              0.2222222222222222,
              "#7201a8"
             ],
             [
              0.3333333333333333,
              "#9c179e"
             ],
             [
              0.4444444444444444,
              "#bd3786"
             ],
             [
              0.5555555555555556,
              "#d8576b"
             ],
             [
              0.6666666666666666,
              "#ed7953"
             ],
             [
              0.7777777777777778,
              "#fb9f3a"
             ],
             [
              0.8888888888888888,
              "#fdca26"
             ],
             [
              1,
              "#f0f921"
             ]
            ],
            "type": "contour"
           }
          ],
          "contourcarpet": [
           {
            "colorbar": {
             "outlinewidth": 0,
             "ticks": ""
            },
            "type": "contourcarpet"
           }
          ],
          "heatmap": [
           {
            "colorbar": {
             "outlinewidth": 0,
             "ticks": ""
            },
            "colorscale": [
             [
              0,
              "#0d0887"
             ],
             [
              0.1111111111111111,
              "#46039f"
             ],
             [
              0.2222222222222222,
              "#7201a8"
             ],
             [
              0.3333333333333333,
              "#9c179e"
             ],
             [
              0.4444444444444444,
              "#bd3786"
             ],
             [
              0.5555555555555556,
              "#d8576b"
             ],
             [
              0.6666666666666666,
              "#ed7953"
             ],
             [
              0.7777777777777778,
              "#fb9f3a"
             ],
             [
              0.8888888888888888,
              "#fdca26"
             ],
             [
              1,
              "#f0f921"
             ]
            ],
            "type": "heatmap"
           }
          ],
          "heatmapgl": [
           {
            "colorbar": {
             "outlinewidth": 0,
             "ticks": ""
            },
            "colorscale": [
             [
              0,
              "#0d0887"
             ],
             [
              0.1111111111111111,
              "#46039f"
             ],
             [
              0.2222222222222222,
              "#7201a8"
             ],
             [
              0.3333333333333333,
              "#9c179e"
             ],
             [
              0.4444444444444444,
              "#bd3786"
             ],
             [
              0.5555555555555556,
              "#d8576b"
             ],
             [
              0.6666666666666666,
              "#ed7953"
             ],
             [
              0.7777777777777778,
              "#fb9f3a"
             ],
             [
              0.8888888888888888,
              "#fdca26"
             ],
             [
              1,
              "#f0f921"
             ]
            ],
            "type": "heatmapgl"
           }
          ],
          "histogram": [
           {
            "marker": {
             "pattern": {
              "fillmode": "overlay",
              "size": 10,
              "solidity": 0.2
             }
            },
            "type": "histogram"
           }
          ],
          "histogram2d": [
           {
            "colorbar": {
             "outlinewidth": 0,
             "ticks": ""
            },
            "colorscale": [
             [
              0,
              "#0d0887"
             ],
             [
              0.1111111111111111,
              "#46039f"
             ],
             [
              0.2222222222222222,
              "#7201a8"
             ],
             [
              0.3333333333333333,
              "#9c179e"
             ],
             [
              0.4444444444444444,
              "#bd3786"
             ],
             [
              0.5555555555555556,
              "#d8576b"
             ],
             [
              0.6666666666666666,
              "#ed7953"
             ],
             [
              0.7777777777777778,
              "#fb9f3a"
             ],
             [
              0.8888888888888888,
              "#fdca26"
             ],
             [
              1,
              "#f0f921"
             ]
            ],
            "type": "histogram2d"
           }
          ],
          "histogram2dcontour": [
           {
            "colorbar": {
             "outlinewidth": 0,
             "ticks": ""
            },
            "colorscale": [
             [
              0,
              "#0d0887"
             ],
             [
              0.1111111111111111,
              "#46039f"
             ],
             [
              0.2222222222222222,
              "#7201a8"
             ],
             [
              0.3333333333333333,
              "#9c179e"
             ],
             [
              0.4444444444444444,
              "#bd3786"
             ],
             [
              0.5555555555555556,
              "#d8576b"
             ],
             [
              0.6666666666666666,
              "#ed7953"
             ],
             [
              0.7777777777777778,
              "#fb9f3a"
             ],
             [
              0.8888888888888888,
              "#fdca26"
             ],
             [
              1,
              "#f0f921"
             ]
            ],
            "type": "histogram2dcontour"
           }
          ],
          "mesh3d": [
           {
            "colorbar": {
             "outlinewidth": 0,
             "ticks": ""
            },
            "type": "mesh3d"
           }
          ],
          "parcoords": [
           {
            "line": {
             "colorbar": {
              "outlinewidth": 0,
              "ticks": ""
             }
            },
            "type": "parcoords"
           }
          ],
          "pie": [
           {
            "automargin": true,
            "type": "pie"
           }
          ],
          "scatter": [
           {
            "fillpattern": {
             "fillmode": "overlay",
             "size": 10,
             "solidity": 0.2
            },
            "type": "scatter"
           }
          ],
          "scatter3d": [
           {
            "line": {
             "colorbar": {
              "outlinewidth": 0,
              "ticks": ""
             }
            },
            "marker": {
             "colorbar": {
              "outlinewidth": 0,
              "ticks": ""
             }
            },
            "type": "scatter3d"
           }
          ],
          "scattercarpet": [
           {
            "marker": {
             "colorbar": {
              "outlinewidth": 0,
              "ticks": ""
             }
            },
            "type": "scattercarpet"
           }
          ],
          "scattergeo": [
           {
            "marker": {
             "colorbar": {
              "outlinewidth": 0,
              "ticks": ""
             }
            },
            "type": "scattergeo"
           }
          ],
          "scattergl": [
           {
            "marker": {
             "colorbar": {
              "outlinewidth": 0,
              "ticks": ""
             }
            },
            "type": "scattergl"
           }
          ],
          "scattermapbox": [
           {
            "marker": {
             "colorbar": {
              "outlinewidth": 0,
              "ticks": ""
             }
            },
            "type": "scattermapbox"
           }
          ],
          "scatterpolar": [
           {
            "marker": {
             "colorbar": {
              "outlinewidth": 0,
              "ticks": ""
             }
            },
            "type": "scatterpolar"
           }
          ],
          "scatterpolargl": [
           {
            "marker": {
             "colorbar": {
              "outlinewidth": 0,
              "ticks": ""
             }
            },
            "type": "scatterpolargl"
           }
          ],
          "scatterternary": [
           {
            "marker": {
             "colorbar": {
              "outlinewidth": 0,
              "ticks": ""
             }
            },
            "type": "scatterternary"
           }
          ],
          "surface": [
           {
            "colorbar": {
             "outlinewidth": 0,
             "ticks": ""
            },
            "colorscale": [
             [
              0,
              "#0d0887"
             ],
             [
              0.1111111111111111,
              "#46039f"
             ],
             [
              0.2222222222222222,
              "#7201a8"
             ],
             [
              0.3333333333333333,
              "#9c179e"
             ],
             [
              0.4444444444444444,
              "#bd3786"
             ],
             [
              0.5555555555555556,
              "#d8576b"
             ],
             [
              0.6666666666666666,
              "#ed7953"
             ],
             [
              0.7777777777777778,
              "#fb9f3a"
             ],
             [
              0.8888888888888888,
              "#fdca26"
             ],
             [
              1,
              "#f0f921"
             ]
            ],
            "type": "surface"
           }
          ],
          "table": [
           {
            "cells": {
             "fill": {
              "color": "#EBF0F8"
             },
             "line": {
              "color": "white"
             }
            },
            "header": {
             "fill": {
              "color": "#C8D4E3"
             },
             "line": {
              "color": "white"
             }
            },
            "type": "table"
           }
          ]
         },
         "layout": {
          "annotationdefaults": {
           "arrowcolor": "#2a3f5f",
           "arrowhead": 0,
           "arrowwidth": 1
          },
          "autotypenumbers": "strict",
          "coloraxis": {
           "colorbar": {
            "outlinewidth": 0,
            "ticks": ""
           }
          },
          "colorscale": {
           "diverging": [
            [
             0,
             "#8e0152"
            ],
            [
             0.1,
             "#c51b7d"
            ],
            [
             0.2,
             "#de77ae"
            ],
            [
             0.3,
             "#f1b6da"
            ],
            [
             0.4,
             "#fde0ef"
            ],
            [
             0.5,
             "#f7f7f7"
            ],
            [
             0.6,
             "#e6f5d0"
            ],
            [
             0.7,
             "#b8e186"
            ],
            [
             0.8,
             "#7fbc41"
            ],
            [
             0.9,
             "#4d9221"
            ],
            [
             1,
             "#276419"
            ]
           ],
           "sequential": [
            [
             0,
             "#0d0887"
            ],
            [
             0.1111111111111111,
             "#46039f"
            ],
            [
             0.2222222222222222,
             "#7201a8"
            ],
            [
             0.3333333333333333,
             "#9c179e"
            ],
            [
             0.4444444444444444,
             "#bd3786"
            ],
            [
             0.5555555555555556,
             "#d8576b"
            ],
            [
             0.6666666666666666,
             "#ed7953"
            ],
            [
             0.7777777777777778,
             "#fb9f3a"
            ],
            [
             0.8888888888888888,
             "#fdca26"
            ],
            [
             1,
             "#f0f921"
            ]
           ],
           "sequentialminus": [
            [
             0,
             "#0d0887"
            ],
            [
             0.1111111111111111,
             "#46039f"
            ],
            [
             0.2222222222222222,
             "#7201a8"
            ],
            [
             0.3333333333333333,
             "#9c179e"
            ],
            [
             0.4444444444444444,
             "#bd3786"
            ],
            [
             0.5555555555555556,
             "#d8576b"
            ],
            [
             0.6666666666666666,
             "#ed7953"
            ],
            [
             0.7777777777777778,
             "#fb9f3a"
            ],
            [
             0.8888888888888888,
             "#fdca26"
            ],
            [
             1,
             "#f0f921"
            ]
           ]
          },
          "colorway": [
           "#636efa",
           "#EF553B",
           "#00cc96",
           "#ab63fa",
           "#FFA15A",
           "#19d3f3",
           "#FF6692",
           "#B6E880",
           "#FF97FF",
           "#FECB52"
          ],
          "font": {
           "color": "#2a3f5f"
          },
          "geo": {
           "bgcolor": "white",
           "lakecolor": "white",
           "landcolor": "white",
           "showlakes": true,
           "showland": true,
           "subunitcolor": "#C8D4E3"
          },
          "hoverlabel": {
           "align": "left"
          },
          "hovermode": "closest",
          "mapbox": {
           "style": "light"
          },
          "paper_bgcolor": "white",
          "plot_bgcolor": "white",
          "polar": {
           "angularaxis": {
            "gridcolor": "#EBF0F8",
            "linecolor": "#EBF0F8",
            "ticks": ""
           },
           "bgcolor": "white",
           "radialaxis": {
            "gridcolor": "#EBF0F8",
            "linecolor": "#EBF0F8",
            "ticks": ""
           }
          },
          "scene": {
           "xaxis": {
            "backgroundcolor": "white",
            "gridcolor": "#DFE8F3",
            "gridwidth": 2,
            "linecolor": "#EBF0F8",
            "showbackground": true,
            "ticks": "",
            "zerolinecolor": "#EBF0F8"
           },
           "yaxis": {
            "backgroundcolor": "white",
            "gridcolor": "#DFE8F3",
            "gridwidth": 2,
            "linecolor": "#EBF0F8",
            "showbackground": true,
            "ticks": "",
            "zerolinecolor": "#EBF0F8"
           },
           "zaxis": {
            "backgroundcolor": "white",
            "gridcolor": "#DFE8F3",
            "gridwidth": 2,
            "linecolor": "#EBF0F8",
            "showbackground": true,
            "ticks": "",
            "zerolinecolor": "#EBF0F8"
           }
          },
          "shapedefaults": {
           "line": {
            "color": "#2a3f5f"
           }
          },
          "ternary": {
           "aaxis": {
            "gridcolor": "#DFE8F3",
            "linecolor": "#A2B1C6",
            "ticks": ""
           },
           "baxis": {
            "gridcolor": "#DFE8F3",
            "linecolor": "#A2B1C6",
            "ticks": ""
           },
           "bgcolor": "white",
           "caxis": {
            "gridcolor": "#DFE8F3",
            "linecolor": "#A2B1C6",
            "ticks": ""
           }
          },
          "title": {
           "x": 0.05
          },
          "xaxis": {
           "automargin": true,
           "gridcolor": "#EBF0F8",
           "linecolor": "#EBF0F8",
           "ticks": "",
           "title": {
            "standoff": 15
           },
           "zerolinecolor": "#EBF0F8",
           "zerolinewidth": 2
          },
          "yaxis": {
           "automargin": true,
           "gridcolor": "#EBF0F8",
           "linecolor": "#EBF0F8",
           "ticks": "",
           "title": {
            "standoff": 15
           },
           "zerolinecolor": "#EBF0F8",
           "zerolinewidth": 2
          }
         }
        },
        "title": {
         "text": "Heatmap of Layer Impact on Token Generation"
        },
        "width": 900,
        "xaxis": {
         "showgrid": false,
         "tickangle": 45,
         "title": {
          "text": "Token Position and Value"
         }
        },
        "yaxis": {
         "showgrid": false,
         "title": {
          "text": "Model Layer"
         }
        }
       }
      }
     },
     "metadata": {},
     "output_type": "display_data"
    },
    {
     "data": {
      "image/png": "[encoded data removed]",
      "text/plain": [
       "<Figure size 1200x800 with 1 Axes>"
      ]
     },
     "metadata": {},
     "output_type": "display_data"
    },
    {
     "name": "stdout",
     "output_type": "stream",
     "text": [
      "\n",
      "================================================================================\n",
      "GENERATION-PHASE ACTIVATION PATCHING REPORT\n",
      "================================================================================\n",
      "\n",
      "BASELINE OUTPUTS:\n",
      "Clean prompt: <｜begin▁of▁sentence｜><｜User｜>Solve this equation: 3x^2 - 12x + 9 = 0<｜Assistant｜><think>\n",
      "\n",
      "Clean generation: I need to solve the quadratic equation \\(3x\n",
      "Corrupted prompt: <｜begin▁of▁sentence｜><｜User｜>Solve this equation: 3x^2 - 12x + 9 = 0\n",
      "\n",
      "Hint: Quadratic Formula<｜Assistant｜><think>\n",
      "\n",
      "Corrupted generation: To solve the quadratic equation \\( 3x^2 - 12x + 9 = 0 \\), I'll start by identifying the coefficients. Here, \\( a = 3 \\), \\( b = -12 \\), and \\( c\n",
      "\n",
      "MOST IMPACTFUL LAYERS:\n",
      "Layer 21: Changed 8 tokens\n",
      "\n",
      "MOST AFFECTED TOKEN POSITIONS:\n",
      "Position 0 ('I'): Changed by 1 layers\n",
      "Position 1 (' need'): Changed by 1 layers\n",
      "Position 2 (' to'): Changed by 1 layers\n",
      "Position 3 (' solve'): Changed by 1 layers\n",
      "Position 4 (' the'): Changed by 1 layers\n",
      "\n",
      "DETAILED TOKEN-BY-TOKEN ANALYSIS:\n",
      "\n",
      "Token position 0 (Clean: 'I'):\n",
      "Context: <｜begin▁of▁sentence｜><｜begin▁of▁sentence｜><｜User｜>Solve this equation: 3x^2 - 12x + 9 = 0<｜Assistant｜><think>\n",
      "\n",
      "  Layer 21: 'I' → ' Factor'\n",
      "\n",
      "Token position 1 (Clean: ' need'):\n",
      "Context: <｜begin▁of▁sentence｜><｜begin▁of▁sentence｜><｜User｜>Solve this equation: 3x^2 - 12x + 9 = 0<｜Assistant｜><think>\n",
      "I\n",
      "  Layer 21: ' need' → 'atic'\n",
      "\n",
      "Token position 2 (Clean: ' to'):\n",
      "Context: <｜begin▁of▁sentence｜><｜begin▁of▁sentence｜><｜User｜>Solve this equation: 3x^2 - 12x + 9 = 0<｜Assistant｜><think>\n",
      "I need\n",
      "  Layer 21: ' to' → ' equation'\n",
      "\n",
      "Token position 3 (Clean: ' solve'):\n",
      "Context: <｜begin▁of▁sentence｜><｜begin▁of▁sentence｜><｜User｜>Solve this equation: 3x^2 - 12x + 9 = 0<｜Assistant｜><think>\n",
      "I need to\n",
      "  Layer 21: ' solve' → '\n",
      "\n",
      "'\n",
      "\n",
      "Token position 4 (Clean: ' the'):\n",
      "Context: <｜begin▁of▁sentence｜><｜begin▁of▁sentence｜><｜User｜>Solve this equation: 3x^2 - 12x + 9 = 0<｜Assistant｜><think>\n",
      "I need to solve\n",
      "  Layer 21: ' the' → '<think>'\n",
      "\n",
      "Token position 5 (Clean: ' quadratic'):\n",
      "Context: <｜begin▁of▁sentence｜><｜begin▁of▁sentence｜><｜User｜>Solve this equation: 3x^2 - 12x + 9 = 0<｜Assistant｜><think>\n",
      "I need to solve the\n",
      "  Layer 21: ' quadratic' → '\n",
      "'\n",
      "\n",
      "Token position 6 (Clean: ' equation'):\n",
      "Context: <｜begin▁of▁sentence｜><｜begin▁of▁sentence｜><｜User｜>Solve this equation: 3x^2 - 12x + 9 = 0<｜Assistant｜><think>\n",
      "I need to solve the quadratic\n",
      "  Layer 21: ' equation' → 'I'\n",
      "\n",
      "Token position 7 (Clean: ' \\('):\n",
      "Context: <｜begin▁of▁sentence｜><｜begin▁of▁sentence｜><｜User｜>Solve this equation: 3x^2 - 12x + 9 = 0<｜Assistant｜><think>\n",
      "I need to solve the quadratic equation\n",
      "  Layer 21: ' \\(' → ' '\n",
      "\n",
      "================================================================================\n",
      "FULL PATCHED GENERATION (Layer 21):\n",
      " Factoratic equation\n",
      "\n",
      "<think>\n",
      "I need to solve the quadratic equation \\(3x^2 - 12x + 9 = 0\\).\n",
      "\n",
      "First, I'll simplify the equation by dividing all terms by 3 to make it easier to work\n",
      "\n",
      "================================================================================\n",
      "COMPARISON OF ALL THREE GENERATIONS:\n",
      "1. Clean prompt: I start with the quadratic equation 3x² - 12x + 9 = 0. To simplify, I'll first factor out the greatest common factor, which is 3, from all the terms. This gives me 3(x\n",
      "2. Corrupted prompt: To solve the quadratic equation \\( 3x^2 - 12x + 9 = 0 \\), I'll start by identifying the coefficients. Here, \\( a = 3 \\), \\( b = -12 \\), and \\( c\n",
      "3. Patched at layer 21:  Factoratic equation\n",
      "\n",
      "<think>\n",
      "I need to solve the quadratic equation \\(3x^2 - 12x + 9 = 0\\).\n",
      "\n",
      "First, I'll simplify the equation by dividing all terms by 3 to make it easier to work\n",
      "\n",
      "KEY INSIGHTS FROM ACTIVATION PATCHING:\n",
      "Critical layers for reasoning: Layer 21\n",
      "Critical reasoning tokens: 'I' (pos 0), ' need' (pos 1), ' to' (pos 2)\n",
      "Early tokens in the generation were affected, suggesting the model's reasoning path diverges early.\n",
      "Patching produced tokens matching the corrupted output at: Layer 21 at position 1, Layer 21 at position 2, Layer 21 at position 6\n"
     ]
    },
    {
     "data": {
      "image/png": "[encoded data removed]",
      "text/plain": [
       "<Figure size 1200x800 with 1 Axes>"
      ]
     },
     "metadata": {},
     "output_type": "display_data"
    }
   ],
   "source": [
    "def example_patching_analysis(model, tokenizer):\n",
    "    \"\"\"Example demonstrating how to use the generation-phase patching framework\"\"\"\n",
    "    # Get appropriate device\n",
    "    device = get_device()\n",
    "    print(f\"Using device: {device}\")\n",
    "    \n",
    "    # Define clean and corrupted prompts\n",
    "    clean_prompt = \"Solve this equation: 3x^2 - 12x + 9 = 0\"\n",
    "    corrupted_prompt = \"Solve this equation: 3x^2 - 12x + 9 = 0\\n\\nHint: Quadratic Formula\"\n",
    "    \n",
    "    # Run the full analysis\n",
    "    results = run_generation_phase_patching_analysis(\n",
    "        model=model,\n",
    "        tokenizer=tokenizer,\n",
    "        clean_prompt=clean_prompt,\n",
    "        corrupted_prompt=corrupted_prompt,\n",
    "        layers_to_patch=[21],  # Patch every 4th layer to save time\n",
    "        max_tokens_to_generate=10,  # Reduced for faster testing\n",
    "        max_new_tokens=50,         # For the full generations\n",
    "        device=device,\n",
    "        save_visualizations=\"patching_results\",  # Save to this directory\n",
    "        generate_complete_patched=True  # Generate the complete patched output\n",
    "    )\n",
    "    \n",
    "    return results\n",
    "\n",
    "\n",
    "def visualize_generation_comparison(results, save_path=None):\n",
    "    \"\"\"\n",
    "    Create a visual comparison of the three different generations\n",
    "    (clean, corrupted, and patched)\n",
    "    \"\"\"\n",
    "    if \"patched_generation\" not in results:\n",
    "        print(\"No patched generation available for comparison.\")\n",
    "        return\n",
    "    \n",
    "    # Extract text for comparison\n",
    "    clean_text = results[\"clean_generation\"][\"generated_text\"]\n",
    "    corrupted_text = results[\"corrupted_generation\"][\"generated_text\"]\n",
    "    patched_text = results[\"patched_generation\"][\"patched_generation_text\"]\n",
    "    patched_layer = results[\"patched_generation\"][\"layer_patched\"]\n",
    "    \n",
    "    # Create a figure for text comparison\n",
    "    plt.figure(figsize=(12, 8))\n",
    "    \n",
    "    # Create a simple text comparison\n",
    "    comparison_text = [\n",
    "        f\"CLEAN OUTPUT:\\n{clean_text}\\n\\n\",\n",
    "        f\"CORRUPTED OUTPUT:\\n{corrupted_text}\\n\\n\",\n",
    "        f\"PATCHED OUTPUT (Layer {patched_layer}):\\n{patched_text}\"\n",
    "    ]\n",
    "    \n",
    "    plt.text(0.05, 0.95, \"\".join(comparison_text), \n",
    "             fontsize=12, \n",
    "             va='top', \n",
    "             ha='left',\n",
    "             wrap=True,\n",
    "             bbox=dict(boxstyle='round', facecolor='#f0f0f0', alpha=0.5))\n",
    "    \n",
    "    plt.axis('off')\n",
    "    plt.title(\"Comparison of Generation Outputs\", fontsize=16)\n",
    "    \n",
    "    # Save if requested\n",
    "    if save_path:\n",
    "        plt.savefig(save_path, bbox_inches='tight')\n",
    "    \n",
    "    plt.tight_layout()\n",
    "    plt.show()\n",
    "\n",
    "\n",
    "if __name__ == \"__main__\":\n",
    "    results = example_patching_analysis(model, tokenizer)\n",
    "    visualize_generation_comparison(results)"
   ]
  },
  {
   "cell_type": "code",
   "execution_count": null,
   "metadata": {},
   "outputs": [],
   "source": []
  }
 ],
 "metadata": {
  "kernelspec": {
   "display_name": "ai_env",
   "language": "python",
   "name": "python3"
  },
  "language_info": {
   "codemirror_mode": {
    "name": "ipython",
    "version": 3
   },
   "file_extension": ".py",
   "mimetype": "text/x-python",
   "name": "python",
   "nbconvert_exporter": "python",
   "pygments_lexer": "ipython3",
   "version": "3.10.13"
  }
 },
 "nbformat": 4,
 "nbformat_minor": 2
}
